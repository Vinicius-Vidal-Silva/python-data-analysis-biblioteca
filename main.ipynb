{
 "cells": [
  {
   "cell_type": "code",
   "execution_count": 77,
   "metadata": {},
   "outputs": [],
   "source": [
    "import pandas as pd\n",
    "import plotly.express as px"
   ]
  },
  {
   "cell_type": "markdown",
   "metadata": {},
   "source": [
    "Função de classificação dos livros"
   ]
  },
  {
   "cell_type": "code",
   "execution_count": 78,
   "metadata": {},
   "outputs": [],
   "source": [
    "def funcao_classifica_cdu(cdu):\n",
    "    if (0 <= cdu <= 99):\n",
    "        return \"Generalidades. Ciência e conhecimento\"\n",
    "    elif (100 <= cdu <= 199):\n",
    "        return \"Filosofia e psicologia\"\n",
    "    elif (200 <= cdu <= 299):\n",
    "        return \"Religião\"\n",
    "    elif (300 <= cdu <= 399):\n",
    "        return \"Ciências sociais\"\n",
    "    elif (400 <= cdu <= 499):\n",
    "        return \"Classe vaga. Provisoriamente não ocupada\"\n",
    "    elif (500 <= cdu <= 599):\n",
    "        return \"Matemática e ciências naturais\"\n",
    "    elif (600 <= cdu <= 699):\n",
    "        return \"Ciências aplicadas\"\n",
    "    elif (700 <= cdu <= 799):\n",
    "        return \"Belas artes\"\n",
    "    elif (800 <= cdu <= 899):\n",
    "        return \"Linguagem. Língua. Linguística\"\n",
    "    elif (900 <= cdu <= 999):\n",
    "        return \"Geografia. Biografia. História\""
   ]
  },
  {
   "cell_type": "markdown",
   "metadata": {},
   "source": [
    "Realiza a leitura dos arquivos em CSV"
   ]
  },
  {
   "cell_type": "code",
   "execution_count": 79,
   "metadata": {},
   "outputs": [],
   "source": [
    "dados_2010_1 = pd.read_csv(r\"C:\\\\Users\\\\vinic\\\\OneDrive\\\\Documentos\\\\Aprendizado\\\\biblioteca_UFRN\\\\dados\\\\emprestimos-20101.csv\")\n",
    "dados_2010_2 = pd.read_csv(r\"C:\\\\Users\\\\vinic\\\\OneDrive\\\\Documentos\\\\Aprendizado\\\\biblioteca_UFRN\\\\dados\\\\emprestimos-20102.csv\")\n",
    "dados_2011_1 = pd.read_csv(r\"C:\\\\Users\\\\vinic\\\\OneDrive\\\\Documentos\\\\Aprendizado\\\\biblioteca_UFRN\\\\dados\\\\emprestimos-20111.csv\")\n",
    "dados_2011_2 = pd.read_csv(r\"C:\\\\Users\\\\vinic\\\\OneDrive\\\\Documentos\\\\Aprendizado\\\\biblioteca_UFRN\\\\dados\\\\emprestimos-20112.csv\")\n",
    "dados_2012_1 = pd.read_csv(r\"C:\\\\Users\\\\vinic\\\\OneDrive\\\\Documentos\\\\Aprendizado\\\\biblioteca_UFRN\\\\dados\\\\emprestimos-20121.csv\")\n",
    "dados_2012_2 = pd.read_csv(r\"C:\\\\Users\\\\vinic\\\\OneDrive\\\\Documentos\\\\Aprendizado\\\\biblioteca_UFRN\\\\dados\\\\emprestimos-20122.csv\")\n",
    "dados_2013_1 = pd.read_csv(r\"C:\\\\Users\\\\vinic\\\\OneDrive\\\\Documentos\\\\Aprendizado\\\\biblioteca_UFRN\\\\dados\\\\emprestimos-20131.csv\")\n",
    "dados_2013_2 = pd.read_csv(r\"C:\\\\Users\\\\vinic\\\\OneDrive\\\\Documentos\\\\Aprendizado\\\\biblioteca_UFRN\\\\dados\\\\emprestimos-20132.csv\")\n",
    "dados_2014_1 = pd.read_csv(r\"C:\\\\Users\\\\vinic\\\\OneDrive\\\\Documentos\\\\Aprendizado\\\\biblioteca_UFRN\\\\dados\\\\emprestimos-20141.csv\")\n",
    "dados_2014_2 = pd.read_csv(r\"C:\\\\Users\\\\vinic\\\\OneDrive\\\\Documentos\\\\Aprendizado\\\\biblioteca_UFRN\\\\dados\\\\emprestimos-20142.csv\")\n",
    "dados_2015_1 = pd.read_csv(r\"C:\\\\Users\\\\vinic\\\\OneDrive\\\\Documentos\\\\Aprendizado\\\\biblioteca_UFRN\\\\dados\\\\emprestimos-20151.csv\")\n",
    "dados_2015_2 = pd.read_csv(r\"C:\\\\Users\\\\vinic\\\\OneDrive\\\\Documentos\\\\Aprendizado\\\\biblioteca_UFRN\\\\dados\\\\emprestimos-20152.csv\")\n",
    "dados_2016_1 = pd.read_csv(r\"C:\\\\Users\\\\vinic\\\\OneDrive\\\\Documentos\\\\Aprendizado\\\\biblioteca_UFRN\\\\dados\\\\emprestimos-20161.csv\")\n",
    "dados_2016_2 = pd.read_csv(r\"C:\\\\Users\\\\vinic\\\\OneDrive\\\\Documentos\\\\Aprendizado\\\\biblioteca_UFRN\\\\dados\\\\emprestimos-20162.csv\")\n",
    "dados_2017_1 = pd.read_csv(r\"C:\\\\Users\\\\vinic\\\\OneDrive\\\\Documentos\\\\Aprendizado\\\\biblioteca_UFRN\\\\dados\\\\emprestimos-20171.csv\")\n",
    "dados_2017_2 = pd.read_csv(r\"C:\\\\Users\\\\vinic\\\\OneDrive\\\\Documentos\\\\Aprendizado\\\\biblioteca_UFRN\\\\dados\\\\emprestimos-20172.csv\")\n",
    "dados_2018_1 = pd.read_csv(r\"C:\\\\Users\\\\vinic\\\\OneDrive\\\\Documentos\\\\Aprendizado\\\\biblioteca_UFRN\\\\dados\\\\emprestimos-20181.csv\")\n",
    "dados_2018_2 = pd.read_csv(r\"C:\\\\Users\\\\vinic\\\\OneDrive\\\\Documentos\\\\Aprendizado\\\\biblioteca_UFRN\\\\dados\\\\emprestimos-20182.csv\")\n",
    "dados_2019_1 = pd.read_csv(r\"C:\\\\Users\\\\vinic\\\\OneDrive\\\\Documentos\\\\Aprendizado\\\\biblioteca_UFRN\\\\dados\\\\emprestimos-20191.csv\")\n",
    "dados_2019_2 = pd.read_csv(r\"C:\\\\Users\\\\vinic\\\\OneDrive\\\\Documentos\\\\Aprendizado\\\\biblioteca_UFRN\\\\dados\\\\emprestimos-20192.csv\")\n",
    "dados_2020_1 = pd.read_csv(r\"C:\\\\Users\\\\vinic\\\\OneDrive\\\\Documentos\\\\Aprendizado\\\\biblioteca_UFRN\\\\dados\\\\emprestimos-20201.csv\")"
   ]
  },
  {
   "cell_type": "markdown",
   "metadata": {},
   "source": [
    "Junta todos o DataFrames em 1 e remove as duplicatas"
   ]
  },
  {
   "cell_type": "code",
   "execution_count": 80,
   "metadata": {},
   "outputs": [],
   "source": [
    "emprestimos_biblioteca = pd.concat([dados_2010_1,dados_2010_2,dados_2011_1,dados_2011_2,dados_2012_1,dados_2012_2,dados_2013_1,dados_2013_2,dados_2014_1,\n",
    "                                    dados_2014_2,dados_2015_1,dados_2015_2,dados_2016_1,dados_2016_2,dados_2017_1,dados_2017_2,dados_2018_1,dados_2018_2,\n",
    "                                    dados_2019_1,dados_2019_2,dados_2020_1], ignore_index=True)\n",
    "\n",
    "emprestimos_biblioteca = emprestimos_biblioteca.drop_duplicates()"
   ]
  },
  {
   "cell_type": "markdown",
   "metadata": {},
   "source": [
    "Realiza a leitura dos exemplares no arquivo parquet"
   ]
  },
  {
   "cell_type": "code",
   "execution_count": 81,
   "metadata": {},
   "outputs": [],
   "source": [
    "dados_exemplares = pd.read_parquet(r\"C:\\\\Users\\\\vinic\\\\OneDrive\\\\Documentos\\\\Aprendizado\\\\biblioteca_UFRN\\\\dados\\\\dados_exemplares.parquet\")"
   ]
  },
  {
   "cell_type": "markdown",
   "metadata": {},
   "source": [
    "Cria um arquivo final com todas os DataFrames importados"
   ]
  },
  {
   "cell_type": "code",
   "execution_count": 82,
   "metadata": {},
   "outputs": [],
   "source": [
    "emprestimos_completo = pd.merge(emprestimos_biblioteca, dados_exemplares, on=\"codigo_barras\", how=\"inner\")"
   ]
  },
  {
   "cell_type": "markdown",
   "metadata": {},
   "source": [
    "Realiza a limpeza do DataFrame completo"
   ]
  },
  {
   "cell_type": "code",
   "execution_count": 83,
   "metadata": {},
   "outputs": [
    {
     "name": "stdout",
     "output_type": "stream",
     "text": [
      "Index(['id_emprestimo', 'codigo_barras', 'data_renovacao', 'data_emprestimo',\n",
      "       'data_devolucao', 'matricula_ou_siape', 'tipo_vinculo_usuario',\n",
      "       'id_exemplar', 'colecao', 'biblioteca', 'status_material',\n",
      "       'localizacao', 'cdu_valor'],\n",
      "      dtype='object')\n"
     ]
    }
   ],
   "source": [
    "emprestimos_completo[\"cdu_valor\"] = emprestimos_completo[\"localizacao\"].apply(funcao_classifica_cdu)\n",
    "emprestimos_completo.head(10)\n",
    "emprestimos_completo[\"registro_sistema\"].head(10)\n",
    "emprestimos_completo['matricula_ou_siape'].head(10)\n",
    "emprestimos_completo = emprestimos_completo.drop(\"registro_sistema\", axis=1)\n",
    "emprestimos_completo['matricula_ou_siape'] = emprestimos_completo['matricula_ou_siape'].astype(str)\n",
    "print(emprestimos_completo.columns)"
   ]
  },
  {
   "cell_type": "markdown",
   "metadata": {},
   "source": [
    "Dia 3, Analisando os dados\n",
    "Tarefa: A quantidade total de exemplares emprestados por cada ano e plote um gráfico de linhas. Faça uma análise em relação à visualização gerada."
   ]
  },
  {
   "cell_type": "markdown",
   "metadata": {},
   "source": [
    "1º Passo: Transforma as colunas de data em datetime"
   ]
  },
  {
   "cell_type": "code",
   "execution_count": 84,
   "metadata": {},
   "outputs": [],
   "source": [
    "lista_de_colunas = [\"data_renovacao\", \"data_emprestimo\", \"data_devolucao\"]\n",
    "for coluna in lista_de_colunas:\n",
    "    emprestimos_completo[coluna] = pd.to_datetime(emprestimos_completo[coluna])"
   ]
  },
  {
   "cell_type": "markdown",
   "metadata": {},
   "source": [
    "2º Criando a coluna de ano para poder agrupar\n",
    "IMPORTANTE: Reparar no dt para DateTime"
   ]
  },
  {
   "cell_type": "code",
   "execution_count": 85,
   "metadata": {},
   "outputs": [],
   "source": [
    "emprestimos_completo[\"ano\"] = emprestimos_completo[\"data_emprestimo\"].dt.year"
   ]
  },
  {
   "cell_type": "markdown",
   "metadata": {},
   "source": [
    "3º Agrupando por ano e contando o número de exemplares emprestados\n",
    "IMPORTANTE: Usar o 'reset_index()' para que o python não considere o nome da coluna como um índice"
   ]
  },
  {
   "cell_type": "code",
   "execution_count": 86,
   "metadata": {},
   "outputs": [],
   "source": [
    "emprestimos_por_ano = emprestimos_completo[[\"ano\", \"id_exemplar\"]]\n",
    "emprestimos_por_ano_agrupado = emprestimos_por_ano.groupby('ano').count().reset_index()"
   ]
  },
  {
   "cell_type": "markdown",
   "metadata": {},
   "source": [
    "4º Criando o gráfico de linha com o plotly"
   ]
  },
  {
   "cell_type": "code",
   "execution_count": 87,
   "metadata": {},
   "outputs": [
    {
     "data": {
      "application/vnd.plotly.v1+json": {
       "config": {
        "plotlyServerURL": "https://plot.ly"
       },
       "data": [
        {
         "hovertemplate": "ano=%{x}<br>id_exemplar=%{text}<extra></extra>",
         "legendgroup": "",
         "line": {
          "color": "#636efa",
          "dash": "solid"
         },
         "marker": {
          "symbol": "circle"
         },
         "mode": "lines+markers+text",
         "name": "",
         "orientation": "v",
         "showlegend": false,
         "text": [
          161394,
          196390,
          221365,
          234749,
          219189,
          213582,
          215900,
          218462,
          194080,
          171801,
          25610
         ],
         "textposition": "top center",
         "texttemplate": "%{text:,}",
         "type": "scatter",
         "x": [
          2010,
          2011,
          2012,
          2013,
          2014,
          2015,
          2016,
          2017,
          2018,
          2019,
          2020
         ],
         "xaxis": "x",
         "y": [
          161394,
          196390,
          221365,
          234749,
          219189,
          213582,
          215900,
          218462,
          194080,
          171801,
          25610
         ],
         "yaxis": "y"
        }
       ],
       "layout": {
        "legend": {
         "tracegroupgap": 0
        },
        "template": {
         "data": {
          "bar": [
           {
            "error_x": {
             "color": "#2a3f5f"
            },
            "error_y": {
             "color": "#2a3f5f"
            },
            "marker": {
             "line": {
              "color": "#E5ECF6",
              "width": 0.5
             },
             "pattern": {
              "fillmode": "overlay",
              "size": 10,
              "solidity": 0.2
             }
            },
            "type": "bar"
           }
          ],
          "barpolar": [
           {
            "marker": {
             "line": {
              "color": "#E5ECF6",
              "width": 0.5
             },
             "pattern": {
              "fillmode": "overlay",
              "size": 10,
              "solidity": 0.2
             }
            },
            "type": "barpolar"
           }
          ],
          "carpet": [
           {
            "aaxis": {
             "endlinecolor": "#2a3f5f",
             "gridcolor": "white",
             "linecolor": "white",
             "minorgridcolor": "white",
             "startlinecolor": "#2a3f5f"
            },
            "baxis": {
             "endlinecolor": "#2a3f5f",
             "gridcolor": "white",
             "linecolor": "white",
             "minorgridcolor": "white",
             "startlinecolor": "#2a3f5f"
            },
            "type": "carpet"
           }
          ],
          "choropleth": [
           {
            "colorbar": {
             "outlinewidth": 0,
             "ticks": ""
            },
            "type": "choropleth"
           }
          ],
          "contour": [
           {
            "colorbar": {
             "outlinewidth": 0,
             "ticks": ""
            },
            "colorscale": [
             [
              0,
              "#0d0887"
             ],
             [
              0.1111111111111111,
              "#46039f"
             ],
             [
              0.2222222222222222,
              "#7201a8"
             ],
             [
              0.3333333333333333,
              "#9c179e"
             ],
             [
              0.4444444444444444,
              "#bd3786"
             ],
             [
              0.5555555555555556,
              "#d8576b"
             ],
             [
              0.6666666666666666,
              "#ed7953"
             ],
             [
              0.7777777777777778,
              "#fb9f3a"
             ],
             [
              0.8888888888888888,
              "#fdca26"
             ],
             [
              1,
              "#f0f921"
             ]
            ],
            "type": "contour"
           }
          ],
          "contourcarpet": [
           {
            "colorbar": {
             "outlinewidth": 0,
             "ticks": ""
            },
            "type": "contourcarpet"
           }
          ],
          "heatmap": [
           {
            "colorbar": {
             "outlinewidth": 0,
             "ticks": ""
            },
            "colorscale": [
             [
              0,
              "#0d0887"
             ],
             [
              0.1111111111111111,
              "#46039f"
             ],
             [
              0.2222222222222222,
              "#7201a8"
             ],
             [
              0.3333333333333333,
              "#9c179e"
             ],
             [
              0.4444444444444444,
              "#bd3786"
             ],
             [
              0.5555555555555556,
              "#d8576b"
             ],
             [
              0.6666666666666666,
              "#ed7953"
             ],
             [
              0.7777777777777778,
              "#fb9f3a"
             ],
             [
              0.8888888888888888,
              "#fdca26"
             ],
             [
              1,
              "#f0f921"
             ]
            ],
            "type": "heatmap"
           }
          ],
          "heatmapgl": [
           {
            "colorbar": {
             "outlinewidth": 0,
             "ticks": ""
            },
            "colorscale": [
             [
              0,
              "#0d0887"
             ],
             [
              0.1111111111111111,
              "#46039f"
             ],
             [
              0.2222222222222222,
              "#7201a8"
             ],
             [
              0.3333333333333333,
              "#9c179e"
             ],
             [
              0.4444444444444444,
              "#bd3786"
             ],
             [
              0.5555555555555556,
              "#d8576b"
             ],
             [
              0.6666666666666666,
              "#ed7953"
             ],
             [
              0.7777777777777778,
              "#fb9f3a"
             ],
             [
              0.8888888888888888,
              "#fdca26"
             ],
             [
              1,
              "#f0f921"
             ]
            ],
            "type": "heatmapgl"
           }
          ],
          "histogram": [
           {
            "marker": {
             "pattern": {
              "fillmode": "overlay",
              "size": 10,
              "solidity": 0.2
             }
            },
            "type": "histogram"
           }
          ],
          "histogram2d": [
           {
            "colorbar": {
             "outlinewidth": 0,
             "ticks": ""
            },
            "colorscale": [
             [
              0,
              "#0d0887"
             ],
             [
              0.1111111111111111,
              "#46039f"
             ],
             [
              0.2222222222222222,
              "#7201a8"
             ],
             [
              0.3333333333333333,
              "#9c179e"
             ],
             [
              0.4444444444444444,
              "#bd3786"
             ],
             [
              0.5555555555555556,
              "#d8576b"
             ],
             [
              0.6666666666666666,
              "#ed7953"
             ],
             [
              0.7777777777777778,
              "#fb9f3a"
             ],
             [
              0.8888888888888888,
              "#fdca26"
             ],
             [
              1,
              "#f0f921"
             ]
            ],
            "type": "histogram2d"
           }
          ],
          "histogram2dcontour": [
           {
            "colorbar": {
             "outlinewidth": 0,
             "ticks": ""
            },
            "colorscale": [
             [
              0,
              "#0d0887"
             ],
             [
              0.1111111111111111,
              "#46039f"
             ],
             [
              0.2222222222222222,
              "#7201a8"
             ],
             [
              0.3333333333333333,
              "#9c179e"
             ],
             [
              0.4444444444444444,
              "#bd3786"
             ],
             [
              0.5555555555555556,
              "#d8576b"
             ],
             [
              0.6666666666666666,
              "#ed7953"
             ],
             [
              0.7777777777777778,
              "#fb9f3a"
             ],
             [
              0.8888888888888888,
              "#fdca26"
             ],
             [
              1,
              "#f0f921"
             ]
            ],
            "type": "histogram2dcontour"
           }
          ],
          "mesh3d": [
           {
            "colorbar": {
             "outlinewidth": 0,
             "ticks": ""
            },
            "type": "mesh3d"
           }
          ],
          "parcoords": [
           {
            "line": {
             "colorbar": {
              "outlinewidth": 0,
              "ticks": ""
             }
            },
            "type": "parcoords"
           }
          ],
          "pie": [
           {
            "automargin": true,
            "type": "pie"
           }
          ],
          "scatter": [
           {
            "fillpattern": {
             "fillmode": "overlay",
             "size": 10,
             "solidity": 0.2
            },
            "type": "scatter"
           }
          ],
          "scatter3d": [
           {
            "line": {
             "colorbar": {
              "outlinewidth": 0,
              "ticks": ""
             }
            },
            "marker": {
             "colorbar": {
              "outlinewidth": 0,
              "ticks": ""
             }
            },
            "type": "scatter3d"
           }
          ],
          "scattercarpet": [
           {
            "marker": {
             "colorbar": {
              "outlinewidth": 0,
              "ticks": ""
             }
            },
            "type": "scattercarpet"
           }
          ],
          "scattergeo": [
           {
            "marker": {
             "colorbar": {
              "outlinewidth": 0,
              "ticks": ""
             }
            },
            "type": "scattergeo"
           }
          ],
          "scattergl": [
           {
            "marker": {
             "colorbar": {
              "outlinewidth": 0,
              "ticks": ""
             }
            },
            "type": "scattergl"
           }
          ],
          "scattermapbox": [
           {
            "marker": {
             "colorbar": {
              "outlinewidth": 0,
              "ticks": ""
             }
            },
            "type": "scattermapbox"
           }
          ],
          "scatterpolar": [
           {
            "marker": {
             "colorbar": {
              "outlinewidth": 0,
              "ticks": ""
             }
            },
            "type": "scatterpolar"
           }
          ],
          "scatterpolargl": [
           {
            "marker": {
             "colorbar": {
              "outlinewidth": 0,
              "ticks": ""
             }
            },
            "type": "scatterpolargl"
           }
          ],
          "scatterternary": [
           {
            "marker": {
             "colorbar": {
              "outlinewidth": 0,
              "ticks": ""
             }
            },
            "type": "scatterternary"
           }
          ],
          "surface": [
           {
            "colorbar": {
             "outlinewidth": 0,
             "ticks": ""
            },
            "colorscale": [
             [
              0,
              "#0d0887"
             ],
             [
              0.1111111111111111,
              "#46039f"
             ],
             [
              0.2222222222222222,
              "#7201a8"
             ],
             [
              0.3333333333333333,
              "#9c179e"
             ],
             [
              0.4444444444444444,
              "#bd3786"
             ],
             [
              0.5555555555555556,
              "#d8576b"
             ],
             [
              0.6666666666666666,
              "#ed7953"
             ],
             [
              0.7777777777777778,
              "#fb9f3a"
             ],
             [
              0.8888888888888888,
              "#fdca26"
             ],
             [
              1,
              "#f0f921"
             ]
            ],
            "type": "surface"
           }
          ],
          "table": [
           {
            "cells": {
             "fill": {
              "color": "#EBF0F8"
             },
             "line": {
              "color": "white"
             }
            },
            "header": {
             "fill": {
              "color": "#C8D4E3"
             },
             "line": {
              "color": "white"
             }
            },
            "type": "table"
           }
          ]
         },
         "layout": {
          "annotationdefaults": {
           "arrowcolor": "#2a3f5f",
           "arrowhead": 0,
           "arrowwidth": 1
          },
          "autotypenumbers": "strict",
          "coloraxis": {
           "colorbar": {
            "outlinewidth": 0,
            "ticks": ""
           }
          },
          "colorscale": {
           "diverging": [
            [
             0,
             "#8e0152"
            ],
            [
             0.1,
             "#c51b7d"
            ],
            [
             0.2,
             "#de77ae"
            ],
            [
             0.3,
             "#f1b6da"
            ],
            [
             0.4,
             "#fde0ef"
            ],
            [
             0.5,
             "#f7f7f7"
            ],
            [
             0.6,
             "#e6f5d0"
            ],
            [
             0.7,
             "#b8e186"
            ],
            [
             0.8,
             "#7fbc41"
            ],
            [
             0.9,
             "#4d9221"
            ],
            [
             1,
             "#276419"
            ]
           ],
           "sequential": [
            [
             0,
             "#0d0887"
            ],
            [
             0.1111111111111111,
             "#46039f"
            ],
            [
             0.2222222222222222,
             "#7201a8"
            ],
            [
             0.3333333333333333,
             "#9c179e"
            ],
            [
             0.4444444444444444,
             "#bd3786"
            ],
            [
             0.5555555555555556,
             "#d8576b"
            ],
            [
             0.6666666666666666,
             "#ed7953"
            ],
            [
             0.7777777777777778,
             "#fb9f3a"
            ],
            [
             0.8888888888888888,
             "#fdca26"
            ],
            [
             1,
             "#f0f921"
            ]
           ],
           "sequentialminus": [
            [
             0,
             "#0d0887"
            ],
            [
             0.1111111111111111,
             "#46039f"
            ],
            [
             0.2222222222222222,
             "#7201a8"
            ],
            [
             0.3333333333333333,
             "#9c179e"
            ],
            [
             0.4444444444444444,
             "#bd3786"
            ],
            [
             0.5555555555555556,
             "#d8576b"
            ],
            [
             0.6666666666666666,
             "#ed7953"
            ],
            [
             0.7777777777777778,
             "#fb9f3a"
            ],
            [
             0.8888888888888888,
             "#fdca26"
            ],
            [
             1,
             "#f0f921"
            ]
           ]
          },
          "colorway": [
           "#636efa",
           "#EF553B",
           "#00cc96",
           "#ab63fa",
           "#FFA15A",
           "#19d3f3",
           "#FF6692",
           "#B6E880",
           "#FF97FF",
           "#FECB52"
          ],
          "font": {
           "color": "#2a3f5f"
          },
          "geo": {
           "bgcolor": "white",
           "lakecolor": "white",
           "landcolor": "#E5ECF6",
           "showlakes": true,
           "showland": true,
           "subunitcolor": "white"
          },
          "hoverlabel": {
           "align": "left"
          },
          "hovermode": "closest",
          "mapbox": {
           "style": "light"
          },
          "paper_bgcolor": "white",
          "plot_bgcolor": "#E5ECF6",
          "polar": {
           "angularaxis": {
            "gridcolor": "white",
            "linecolor": "white",
            "ticks": ""
           },
           "bgcolor": "#E5ECF6",
           "radialaxis": {
            "gridcolor": "white",
            "linecolor": "white",
            "ticks": ""
           }
          },
          "scene": {
           "xaxis": {
            "backgroundcolor": "#E5ECF6",
            "gridcolor": "white",
            "gridwidth": 2,
            "linecolor": "white",
            "showbackground": true,
            "ticks": "",
            "zerolinecolor": "white"
           },
           "yaxis": {
            "backgroundcolor": "#E5ECF6",
            "gridcolor": "white",
            "gridwidth": 2,
            "linecolor": "white",
            "showbackground": true,
            "ticks": "",
            "zerolinecolor": "white"
           },
           "zaxis": {
            "backgroundcolor": "#E5ECF6",
            "gridcolor": "white",
            "gridwidth": 2,
            "linecolor": "white",
            "showbackground": true,
            "ticks": "",
            "zerolinecolor": "white"
           }
          },
          "shapedefaults": {
           "line": {
            "color": "#2a3f5f"
           }
          },
          "ternary": {
           "aaxis": {
            "gridcolor": "white",
            "linecolor": "white",
            "ticks": ""
           },
           "baxis": {
            "gridcolor": "white",
            "linecolor": "white",
            "ticks": ""
           },
           "bgcolor": "#E5ECF6",
           "caxis": {
            "gridcolor": "white",
            "linecolor": "white",
            "ticks": ""
           }
          },
          "title": {
           "x": 0.05
          },
          "xaxis": {
           "automargin": true,
           "gridcolor": "white",
           "linecolor": "white",
           "ticks": "",
           "title": {
            "standoff": 15
           },
           "zerolinecolor": "white",
           "zerolinewidth": 2
          },
          "yaxis": {
           "automargin": true,
           "gridcolor": "white",
           "linecolor": "white",
           "ticks": "",
           "title": {
            "standoff": 15
           },
           "zerolinecolor": "white",
           "zerolinewidth": 2
          }
         }
        },
        "title": {
         "text": "Nº de exemplares emprestados ao longo dos anos"
        },
        "xaxis": {
         "anchor": "y",
         "domain": [
          0,
          1
         ],
         "title": {
          "text": "Ano"
         }
        },
        "yaxis": {
         "anchor": "x",
         "domain": [
          0,
          1
         ],
         "title": {
          "text": "Nº de exemplares emprestados"
         }
        }
       }
      }
     },
     "metadata": {},
     "output_type": "display_data"
    }
   ],
   "source": [
    "fig = px.line(emprestimos_por_ano_agrupado, \n",
    "              x=\"ano\", y=\"id_exemplar\", \n",
    "              text=\"id_exemplar\", \n",
    "              markers=True, title=\"Nº de exemplares emprestados ao longo dos anos\")\n",
    "fig.update_traces(textposition=\"top center\",\n",
    "                  texttemplate=\"%{text:,}\") # formata com a casa decimal\n",
    "fig.update_layout(xaxis_title = \"Ano\",\n",
    "                  yaxis_title = \"Nº de exemplares emprestados\")\n",
    "fig.show()"
   ]
  },
  {
   "cell_type": "markdown",
   "metadata": {},
   "source": [
    "Análise do gráfico do número de exemplares emprestados por ano:\n",
    "Podemos ver claramento que o ano de 2013 teve o maior número de exemplares emprestados, com um total de 234.749, apos isso o número de exemplares sofreu uma queda até o ano de 2015. Do ano de 2017 até o ano de 2018 houve uma queda de mais de 20 mil exemplares, e os anos de 2019 e 2020, onde levanta-se a hipotese de queda nos emprestimos com o advento da pandemia do COVID-19, sendo 2020 o número mais baixo de toda série histórica analisada, com apenas 25.610 exemplares emprestados."
   ]
  },
  {
   "cell_type": "markdown",
   "metadata": {},
   "source": [
    "Gerar uma tabela com a quantidade total de exemplares emprestados por mês e descubra quais meses são os que possuem a maior quantidade de empréstimos realizados. Plote um gráfico de linhas.\n",
    "    - gerenciar a programação de férias dos colaboradores de acordo com os meses de menor demanda;\n",
    "    - programar atividades que não sejam de atendimento ao usuário para períodos específicos de menor demanda.\n"
   ]
  },
  {
   "cell_type": "markdown",
   "metadata": {},
   "source": [
    "Para uma melhor visualização, foi considerado a médias dos anos, agrupado por mês"
   ]
  },
  {
   "cell_type": "code",
   "execution_count": 88,
   "metadata": {},
   "outputs": [
    {
     "data": {
      "text/html": [
       "<div>\n",
       "<style scoped>\n",
       "    .dataframe tbody tr th:only-of-type {\n",
       "        vertical-align: middle;\n",
       "    }\n",
       "\n",
       "    .dataframe tbody tr th {\n",
       "        vertical-align: top;\n",
       "    }\n",
       "\n",
       "    .dataframe thead th {\n",
       "        text-align: right;\n",
       "    }\n",
       "</style>\n",
       "<table border=\"1\" class=\"dataframe\">\n",
       "  <thead>\n",
       "    <tr style=\"text-align: right;\">\n",
       "      <th></th>\n",
       "      <th>mes</th>\n",
       "      <th>ano</th>\n",
       "      <th>id_emprestimo</th>\n",
       "    </tr>\n",
       "  </thead>\n",
       "  <tbody>\n",
       "    <tr>\n",
       "      <th>0</th>\n",
       "      <td>1</td>\n",
       "      <td>2010</td>\n",
       "      <td>4703</td>\n",
       "    </tr>\n",
       "    <tr>\n",
       "      <th>1</th>\n",
       "      <td>1</td>\n",
       "      <td>2011</td>\n",
       "      <td>1516</td>\n",
       "    </tr>\n",
       "    <tr>\n",
       "      <th>2</th>\n",
       "      <td>1</td>\n",
       "      <td>2012</td>\n",
       "      <td>7336</td>\n",
       "    </tr>\n",
       "    <tr>\n",
       "      <th>3</th>\n",
       "      <td>1</td>\n",
       "      <td>2013</td>\n",
       "      <td>7907</td>\n",
       "    </tr>\n",
       "    <tr>\n",
       "      <th>4</th>\n",
       "      <td>1</td>\n",
       "      <td>2014</td>\n",
       "      <td>15889</td>\n",
       "    </tr>\n",
       "    <tr>\n",
       "      <th>...</th>\n",
       "      <td>...</td>\n",
       "      <td>...</td>\n",
       "      <td>...</td>\n",
       "    </tr>\n",
       "    <tr>\n",
       "      <th>120</th>\n",
       "      <td>12</td>\n",
       "      <td>2015</td>\n",
       "      <td>7114</td>\n",
       "    </tr>\n",
       "    <tr>\n",
       "      <th>121</th>\n",
       "      <td>12</td>\n",
       "      <td>2016</td>\n",
       "      <td>6709</td>\n",
       "    </tr>\n",
       "    <tr>\n",
       "      <th>122</th>\n",
       "      <td>12</td>\n",
       "      <td>2017</td>\n",
       "      <td>5874</td>\n",
       "    </tr>\n",
       "    <tr>\n",
       "      <th>123</th>\n",
       "      <td>12</td>\n",
       "      <td>2018</td>\n",
       "      <td>5806</td>\n",
       "    </tr>\n",
       "    <tr>\n",
       "      <th>124</th>\n",
       "      <td>12</td>\n",
       "      <td>2019</td>\n",
       "      <td>3510</td>\n",
       "    </tr>\n",
       "  </tbody>\n",
       "</table>\n",
       "<p>125 rows × 3 columns</p>\n",
       "</div>"
      ],
      "text/plain": [
       "     mes   ano  id_emprestimo\n",
       "0      1  2010           4703\n",
       "1      1  2011           1516\n",
       "2      1  2012           7336\n",
       "3      1  2013           7907\n",
       "4      1  2014          15889\n",
       "..   ...   ...            ...\n",
       "120   12  2015           7114\n",
       "121   12  2016           6709\n",
       "122   12  2017           5874\n",
       "123   12  2018           5806\n",
       "124   12  2019           3510\n",
       "\n",
       "[125 rows x 3 columns]"
      ]
     },
     "metadata": {},
     "output_type": "display_data"
    },
    {
     "data": {
      "text/html": [
       "<div>\n",
       "<style scoped>\n",
       "    .dataframe tbody tr th:only-of-type {\n",
       "        vertical-align: middle;\n",
       "    }\n",
       "\n",
       "    .dataframe tbody tr th {\n",
       "        vertical-align: top;\n",
       "    }\n",
       "\n",
       "    .dataframe thead th {\n",
       "        text-align: right;\n",
       "    }\n",
       "</style>\n",
       "<table border=\"1\" class=\"dataframe\">\n",
       "  <thead>\n",
       "    <tr style=\"text-align: right;\">\n",
       "      <th></th>\n",
       "      <th>mes</th>\n",
       "      <th>id_emprestimo</th>\n",
       "    </tr>\n",
       "  </thead>\n",
       "  <tbody>\n",
       "    <tr>\n",
       "      <th>0</th>\n",
       "      <td>1</td>\n",
       "      <td>67514</td>\n",
       "    </tr>\n",
       "    <tr>\n",
       "      <th>1</th>\n",
       "      <td>2</td>\n",
       "      <td>210200</td>\n",
       "    </tr>\n",
       "    <tr>\n",
       "      <th>2</th>\n",
       "      <td>3</td>\n",
       "      <td>252185</td>\n",
       "    </tr>\n",
       "    <tr>\n",
       "      <th>3</th>\n",
       "      <td>4</td>\n",
       "      <td>208725</td>\n",
       "    </tr>\n",
       "    <tr>\n",
       "      <th>4</th>\n",
       "      <td>5</td>\n",
       "      <td>202530</td>\n",
       "    </tr>\n",
       "    <tr>\n",
       "      <th>5</th>\n",
       "      <td>6</td>\n",
       "      <td>138123</td>\n",
       "    </tr>\n",
       "    <tr>\n",
       "      <th>6</th>\n",
       "      <td>7</td>\n",
       "      <td>123790</td>\n",
       "    </tr>\n",
       "    <tr>\n",
       "      <th>7</th>\n",
       "      <td>8</td>\n",
       "      <td>232793</td>\n",
       "    </tr>\n",
       "    <tr>\n",
       "      <th>8</th>\n",
       "      <td>9</td>\n",
       "      <td>208234</td>\n",
       "    </tr>\n",
       "    <tr>\n",
       "      <th>9</th>\n",
       "      <td>10</td>\n",
       "      <td>188410</td>\n",
       "    </tr>\n",
       "    <tr>\n",
       "      <th>10</th>\n",
       "      <td>11</td>\n",
       "      <td>164222</td>\n",
       "    </tr>\n",
       "    <tr>\n",
       "      <th>11</th>\n",
       "      <td>12</td>\n",
       "      <td>75796</td>\n",
       "    </tr>\n",
       "  </tbody>\n",
       "</table>\n",
       "</div>"
      ],
      "text/plain": [
       "    mes  id_emprestimo\n",
       "0     1          67514\n",
       "1     2         210200\n",
       "2     3         252185\n",
       "3     4         208725\n",
       "4     5         202530\n",
       "5     6         138123\n",
       "6     7         123790\n",
       "7     8         232793\n",
       "8     9         208234\n",
       "9    10         188410\n",
       "10   11         164222\n",
       "11   12          75796"
      ]
     },
     "metadata": {},
     "output_type": "display_data"
    }
   ],
   "source": [
    "emprestimos_completo[\"mes\"] = emprestimos_completo[\"data_emprestimo\"].dt.month\n",
    "dados_menor_demanda = emprestimos_completo[[\"id_emprestimo\", \"ano\", \"mes\"]]\n",
    "dados_menor_demanda_agrupado = dados_menor_demanda.groupby([\"mes\", \"ano\"]).count().reset_index()\n",
    "dados_menor_demanda_agrupado_resumido = dados_menor_demanda_agrupado.groupby(\"mes\")[\"id_emprestimo\"].sum().reset_index()\n",
    "display(dados_menor_demanda_agrupado)\n",
    "display(dados_menor_demanda_agrupado_resumido)"
   ]
  },
  {
   "cell_type": "markdown",
   "metadata": {},
   "source": [
    "Ajustando os meses para ficar mais fácil de ler o gráfico"
   ]
  },
  {
   "cell_type": "code",
   "execution_count": 89,
   "metadata": {},
   "outputs": [],
   "source": [
    "nomes_meses = [\n",
    "    \"Janeiro\", \"Fevereiro\", \"Março\", \"Abril\", \"Maio\", \"Junho\",\n",
    "    \"Julho\", \"Agosto\", \"Setembro\", \"Outubro\", \"Novembro\", \"Dezembro\"\n",
    "]\n",
    "#Lógica por trás da função lambda, ele pega o valor de x que é o número do mês, 1, 2, 3... \n",
    "# subtrai 1 para pegar a posição do mês na lista nomes_meses\n",
    "dados_menor_demanda_agrupado_resumido[\"mes_nome\"] = dados_menor_demanda_agrupado_resumido[\"mes\"].apply(lambda x: nomes_meses[x-1])"
   ]
  },
  {
   "cell_type": "code",
   "execution_count": 90,
   "metadata": {},
   "outputs": [
    {
     "data": {
      "application/vnd.plotly.v1+json": {
       "config": {
        "plotlyServerURL": "https://plot.ly"
       },
       "data": [
        {
         "hovertemplate": "Mês=%{x}<br>Média de Empréstimos=%{text}<extra></extra>",
         "legendgroup": "",
         "line": {
          "color": "#636efa",
          "dash": "solid"
         },
         "marker": {
          "symbol": "circle"
         },
         "mode": "lines+markers+text",
         "name": "",
         "orientation": "v",
         "showlegend": false,
         "text": [
          67514,
          210200,
          252185,
          208725,
          202530,
          138123,
          123790,
          232793,
          208234,
          188410,
          164222,
          75796
         ],
         "textposition": "top center",
         "texttemplate": "%{y:,.0f}",
         "type": "scatter",
         "x": [
          "Janeiro",
          "Fevereiro",
          "Março",
          "Abril",
          "Maio",
          "Junho",
          "Julho",
          "Agosto",
          "Setembro",
          "Outubro",
          "Novembro",
          "Dezembro"
         ],
         "xaxis": "x",
         "y": [
          67514,
          210200,
          252185,
          208725,
          202530,
          138123,
          123790,
          232793,
          208234,
          188410,
          164222,
          75796
         ],
         "yaxis": "y"
        },
        {
         "marker": {
          "color": "red",
          "size": 10
         },
         "mode": "markers",
         "name": "Meses Suspeitos",
         "textposition": "top center",
         "texttemplate": "%{y:,.0f}",
         "type": "scatter",
         "x": [
          "Março",
          "Setembro"
         ],
         "y": [
          252185,
          208234
         ]
        }
       ],
       "layout": {
        "legend": {
         "tracegroupgap": 0
        },
        "template": {
         "data": {
          "bar": [
           {
            "error_x": {
             "color": "#2a3f5f"
            },
            "error_y": {
             "color": "#2a3f5f"
            },
            "marker": {
             "line": {
              "color": "#E5ECF6",
              "width": 0.5
             },
             "pattern": {
              "fillmode": "overlay",
              "size": 10,
              "solidity": 0.2
             }
            },
            "type": "bar"
           }
          ],
          "barpolar": [
           {
            "marker": {
             "line": {
              "color": "#E5ECF6",
              "width": 0.5
             },
             "pattern": {
              "fillmode": "overlay",
              "size": 10,
              "solidity": 0.2
             }
            },
            "type": "barpolar"
           }
          ],
          "carpet": [
           {
            "aaxis": {
             "endlinecolor": "#2a3f5f",
             "gridcolor": "white",
             "linecolor": "white",
             "minorgridcolor": "white",
             "startlinecolor": "#2a3f5f"
            },
            "baxis": {
             "endlinecolor": "#2a3f5f",
             "gridcolor": "white",
             "linecolor": "white",
             "minorgridcolor": "white",
             "startlinecolor": "#2a3f5f"
            },
            "type": "carpet"
           }
          ],
          "choropleth": [
           {
            "colorbar": {
             "outlinewidth": 0,
             "ticks": ""
            },
            "type": "choropleth"
           }
          ],
          "contour": [
           {
            "colorbar": {
             "outlinewidth": 0,
             "ticks": ""
            },
            "colorscale": [
             [
              0,
              "#0d0887"
             ],
             [
              0.1111111111111111,
              "#46039f"
             ],
             [
              0.2222222222222222,
              "#7201a8"
             ],
             [
              0.3333333333333333,
              "#9c179e"
             ],
             [
              0.4444444444444444,
              "#bd3786"
             ],
             [
              0.5555555555555556,
              "#d8576b"
             ],
             [
              0.6666666666666666,
              "#ed7953"
             ],
             [
              0.7777777777777778,
              "#fb9f3a"
             ],
             [
              0.8888888888888888,
              "#fdca26"
             ],
             [
              1,
              "#f0f921"
             ]
            ],
            "type": "contour"
           }
          ],
          "contourcarpet": [
           {
            "colorbar": {
             "outlinewidth": 0,
             "ticks": ""
            },
            "type": "contourcarpet"
           }
          ],
          "heatmap": [
           {
            "colorbar": {
             "outlinewidth": 0,
             "ticks": ""
            },
            "colorscale": [
             [
              0,
              "#0d0887"
             ],
             [
              0.1111111111111111,
              "#46039f"
             ],
             [
              0.2222222222222222,
              "#7201a8"
             ],
             [
              0.3333333333333333,
              "#9c179e"
             ],
             [
              0.4444444444444444,
              "#bd3786"
             ],
             [
              0.5555555555555556,
              "#d8576b"
             ],
             [
              0.6666666666666666,
              "#ed7953"
             ],
             [
              0.7777777777777778,
              "#fb9f3a"
             ],
             [
              0.8888888888888888,
              "#fdca26"
             ],
             [
              1,
              "#f0f921"
             ]
            ],
            "type": "heatmap"
           }
          ],
          "heatmapgl": [
           {
            "colorbar": {
             "outlinewidth": 0,
             "ticks": ""
            },
            "colorscale": [
             [
              0,
              "#0d0887"
             ],
             [
              0.1111111111111111,
              "#46039f"
             ],
             [
              0.2222222222222222,
              "#7201a8"
             ],
             [
              0.3333333333333333,
              "#9c179e"
             ],
             [
              0.4444444444444444,
              "#bd3786"
             ],
             [
              0.5555555555555556,
              "#d8576b"
             ],
             [
              0.6666666666666666,
              "#ed7953"
             ],
             [
              0.7777777777777778,
              "#fb9f3a"
             ],
             [
              0.8888888888888888,
              "#fdca26"
             ],
             [
              1,
              "#f0f921"
             ]
            ],
            "type": "heatmapgl"
           }
          ],
          "histogram": [
           {
            "marker": {
             "pattern": {
              "fillmode": "overlay",
              "size": 10,
              "solidity": 0.2
             }
            },
            "type": "histogram"
           }
          ],
          "histogram2d": [
           {
            "colorbar": {
             "outlinewidth": 0,
             "ticks": ""
            },
            "colorscale": [
             [
              0,
              "#0d0887"
             ],
             [
              0.1111111111111111,
              "#46039f"
             ],
             [
              0.2222222222222222,
              "#7201a8"
             ],
             [
              0.3333333333333333,
              "#9c179e"
             ],
             [
              0.4444444444444444,
              "#bd3786"
             ],
             [
              0.5555555555555556,
              "#d8576b"
             ],
             [
              0.6666666666666666,
              "#ed7953"
             ],
             [
              0.7777777777777778,
              "#fb9f3a"
             ],
             [
              0.8888888888888888,
              "#fdca26"
             ],
             [
              1,
              "#f0f921"
             ]
            ],
            "type": "histogram2d"
           }
          ],
          "histogram2dcontour": [
           {
            "colorbar": {
             "outlinewidth": 0,
             "ticks": ""
            },
            "colorscale": [
             [
              0,
              "#0d0887"
             ],
             [
              0.1111111111111111,
              "#46039f"
             ],
             [
              0.2222222222222222,
              "#7201a8"
             ],
             [
              0.3333333333333333,
              "#9c179e"
             ],
             [
              0.4444444444444444,
              "#bd3786"
             ],
             [
              0.5555555555555556,
              "#d8576b"
             ],
             [
              0.6666666666666666,
              "#ed7953"
             ],
             [
              0.7777777777777778,
              "#fb9f3a"
             ],
             [
              0.8888888888888888,
              "#fdca26"
             ],
             [
              1,
              "#f0f921"
             ]
            ],
            "type": "histogram2dcontour"
           }
          ],
          "mesh3d": [
           {
            "colorbar": {
             "outlinewidth": 0,
             "ticks": ""
            },
            "type": "mesh3d"
           }
          ],
          "parcoords": [
           {
            "line": {
             "colorbar": {
              "outlinewidth": 0,
              "ticks": ""
             }
            },
            "type": "parcoords"
           }
          ],
          "pie": [
           {
            "automargin": true,
            "type": "pie"
           }
          ],
          "scatter": [
           {
            "fillpattern": {
             "fillmode": "overlay",
             "size": 10,
             "solidity": 0.2
            },
            "type": "scatter"
           }
          ],
          "scatter3d": [
           {
            "line": {
             "colorbar": {
              "outlinewidth": 0,
              "ticks": ""
             }
            },
            "marker": {
             "colorbar": {
              "outlinewidth": 0,
              "ticks": ""
             }
            },
            "type": "scatter3d"
           }
          ],
          "scattercarpet": [
           {
            "marker": {
             "colorbar": {
              "outlinewidth": 0,
              "ticks": ""
             }
            },
            "type": "scattercarpet"
           }
          ],
          "scattergeo": [
           {
            "marker": {
             "colorbar": {
              "outlinewidth": 0,
              "ticks": ""
             }
            },
            "type": "scattergeo"
           }
          ],
          "scattergl": [
           {
            "marker": {
             "colorbar": {
              "outlinewidth": 0,
              "ticks": ""
             }
            },
            "type": "scattergl"
           }
          ],
          "scattermapbox": [
           {
            "marker": {
             "colorbar": {
              "outlinewidth": 0,
              "ticks": ""
             }
            },
            "type": "scattermapbox"
           }
          ],
          "scatterpolar": [
           {
            "marker": {
             "colorbar": {
              "outlinewidth": 0,
              "ticks": ""
             }
            },
            "type": "scatterpolar"
           }
          ],
          "scatterpolargl": [
           {
            "marker": {
             "colorbar": {
              "outlinewidth": 0,
              "ticks": ""
             }
            },
            "type": "scatterpolargl"
           }
          ],
          "scatterternary": [
           {
            "marker": {
             "colorbar": {
              "outlinewidth": 0,
              "ticks": ""
             }
            },
            "type": "scatterternary"
           }
          ],
          "surface": [
           {
            "colorbar": {
             "outlinewidth": 0,
             "ticks": ""
            },
            "colorscale": [
             [
              0,
              "#0d0887"
             ],
             [
              0.1111111111111111,
              "#46039f"
             ],
             [
              0.2222222222222222,
              "#7201a8"
             ],
             [
              0.3333333333333333,
              "#9c179e"
             ],
             [
              0.4444444444444444,
              "#bd3786"
             ],
             [
              0.5555555555555556,
              "#d8576b"
             ],
             [
              0.6666666666666666,
              "#ed7953"
             ],
             [
              0.7777777777777778,
              "#fb9f3a"
             ],
             [
              0.8888888888888888,
              "#fdca26"
             ],
             [
              1,
              "#f0f921"
             ]
            ],
            "type": "surface"
           }
          ],
          "table": [
           {
            "cells": {
             "fill": {
              "color": "#EBF0F8"
             },
             "line": {
              "color": "white"
             }
            },
            "header": {
             "fill": {
              "color": "#C8D4E3"
             },
             "line": {
              "color": "white"
             }
            },
            "type": "table"
           }
          ]
         },
         "layout": {
          "annotationdefaults": {
           "arrowcolor": "#2a3f5f",
           "arrowhead": 0,
           "arrowwidth": 1
          },
          "autotypenumbers": "strict",
          "coloraxis": {
           "colorbar": {
            "outlinewidth": 0,
            "ticks": ""
           }
          },
          "colorscale": {
           "diverging": [
            [
             0,
             "#8e0152"
            ],
            [
             0.1,
             "#c51b7d"
            ],
            [
             0.2,
             "#de77ae"
            ],
            [
             0.3,
             "#f1b6da"
            ],
            [
             0.4,
             "#fde0ef"
            ],
            [
             0.5,
             "#f7f7f7"
            ],
            [
             0.6,
             "#e6f5d0"
            ],
            [
             0.7,
             "#b8e186"
            ],
            [
             0.8,
             "#7fbc41"
            ],
            [
             0.9,
             "#4d9221"
            ],
            [
             1,
             "#276419"
            ]
           ],
           "sequential": [
            [
             0,
             "#0d0887"
            ],
            [
             0.1111111111111111,
             "#46039f"
            ],
            [
             0.2222222222222222,
             "#7201a8"
            ],
            [
             0.3333333333333333,
             "#9c179e"
            ],
            [
             0.4444444444444444,
             "#bd3786"
            ],
            [
             0.5555555555555556,
             "#d8576b"
            ],
            [
             0.6666666666666666,
             "#ed7953"
            ],
            [
             0.7777777777777778,
             "#fb9f3a"
            ],
            [
             0.8888888888888888,
             "#fdca26"
            ],
            [
             1,
             "#f0f921"
            ]
           ],
           "sequentialminus": [
            [
             0,
             "#0d0887"
            ],
            [
             0.1111111111111111,
             "#46039f"
            ],
            [
             0.2222222222222222,
             "#7201a8"
            ],
            [
             0.3333333333333333,
             "#9c179e"
            ],
            [
             0.4444444444444444,
             "#bd3786"
            ],
            [
             0.5555555555555556,
             "#d8576b"
            ],
            [
             0.6666666666666666,
             "#ed7953"
            ],
            [
             0.7777777777777778,
             "#fb9f3a"
            ],
            [
             0.8888888888888888,
             "#fdca26"
            ],
            [
             1,
             "#f0f921"
            ]
           ]
          },
          "colorway": [
           "#636efa",
           "#EF553B",
           "#00cc96",
           "#ab63fa",
           "#FFA15A",
           "#19d3f3",
           "#FF6692",
           "#B6E880",
           "#FF97FF",
           "#FECB52"
          ],
          "font": {
           "color": "#2a3f5f"
          },
          "geo": {
           "bgcolor": "white",
           "lakecolor": "white",
           "landcolor": "#E5ECF6",
           "showlakes": true,
           "showland": true,
           "subunitcolor": "white"
          },
          "hoverlabel": {
           "align": "left"
          },
          "hovermode": "closest",
          "mapbox": {
           "style": "light"
          },
          "paper_bgcolor": "white",
          "plot_bgcolor": "#E5ECF6",
          "polar": {
           "angularaxis": {
            "gridcolor": "white",
            "linecolor": "white",
            "ticks": ""
           },
           "bgcolor": "#E5ECF6",
           "radialaxis": {
            "gridcolor": "white",
            "linecolor": "white",
            "ticks": ""
           }
          },
          "scene": {
           "xaxis": {
            "backgroundcolor": "#E5ECF6",
            "gridcolor": "white",
            "gridwidth": 2,
            "linecolor": "white",
            "showbackground": true,
            "ticks": "",
            "zerolinecolor": "white"
           },
           "yaxis": {
            "backgroundcolor": "#E5ECF6",
            "gridcolor": "white",
            "gridwidth": 2,
            "linecolor": "white",
            "showbackground": true,
            "ticks": "",
            "zerolinecolor": "white"
           },
           "zaxis": {
            "backgroundcolor": "#E5ECF6",
            "gridcolor": "white",
            "gridwidth": 2,
            "linecolor": "white",
            "showbackground": true,
            "ticks": "",
            "zerolinecolor": "white"
           }
          },
          "shapedefaults": {
           "line": {
            "color": "#2a3f5f"
           }
          },
          "ternary": {
           "aaxis": {
            "gridcolor": "white",
            "linecolor": "white",
            "ticks": ""
           },
           "baxis": {
            "gridcolor": "white",
            "linecolor": "white",
            "ticks": ""
           },
           "bgcolor": "#E5ECF6",
           "caxis": {
            "gridcolor": "white",
            "linecolor": "white",
            "ticks": ""
           }
          },
          "title": {
           "x": 0.05
          },
          "xaxis": {
           "automargin": true,
           "gridcolor": "white",
           "linecolor": "white",
           "ticks": "",
           "title": {
            "standoff": 15
           },
           "zerolinecolor": "white",
           "zerolinewidth": 2
          },
          "yaxis": {
           "automargin": true,
           "gridcolor": "white",
           "linecolor": "white",
           "ticks": "",
           "title": {
            "standoff": 15
           },
           "zerolinecolor": "white",
           "zerolinewidth": 2
          }
         }
        },
        "title": {
         "text": "Média de Empréstimos por Mês"
        },
        "xaxis": {
         "anchor": "y",
         "domain": [
          0,
          1
         ],
         "title": {
          "text": "Mês"
         },
         "type": "category"
        },
        "yaxis": {
         "anchor": "x",
         "domain": [
          0,
          1
         ],
         "title": {
          "text": "Média de Empréstimos"
         }
        }
       }
      }
     },
     "metadata": {},
     "output_type": "display_data"
    }
   ],
   "source": [
    "fig2 = px.line(dados_menor_demanda_agrupado_resumido, \n",
    "               x=\"mes_nome\", \n",
    "               y=\"id_emprestimo\",\n",
    "               title=\"Média de Empréstimos por Mês\",\n",
    "               labels={\"id_emprestimo\": \"Média de Empréstimos\", \"mes_nome\": \"Mês\"}, \n",
    "               markers=True,\n",
    "               text=\"id_emprestimo\")\n",
    "fig2.add_scatter(x=[\"Março\", \"Setembro\"], \n",
    "                 y=[dados_menor_demanda_agrupado_resumido.loc[2, \"id_emprestimo\"], dados_menor_demanda_agrupado_resumido.loc[8, \"id_emprestimo\"]], \n",
    "                 mode=\"markers\",\n",
    "                 marker=dict(color=\"red\", size=10),\n",
    "                 textposition=\"top center\",\n",
    "                 name=\"Meses Suspeitos\")\n",
    "fig2.update_traces(texttemplate=\"%{y:,.0f}\",\n",
    "                   textposition=\"top center\")\n",
    "fig2.update_xaxes(type='category')\n",
    "fig2.show()"
   ]
  },
  {
   "cell_type": "markdown",
   "metadata": {},
   "source": [
    "Análise do gráfico:\n",
    "Como demonstrado pela média dos anos, 2010 - 2020, os meses de Março e Setembro possuem uma alta demanda, contudo, Agosto é o mês com maior número de empréstimos, sendo assim os mêses com maior demanda são Agosto e Março. Os meses com menor demanda são Junho e Julho, e Dezembro e Janeiro. Para o mês de Dezembro e Janeiro, podemos considerar o período de Férias escolares, impactando significativamente nos empréstimos. O mesmo vale para o período de Junho e Julho, contudo, nesse período temos quase que o dobro de empréstimos do período de Dezembro e Janeiro, uma hipótese pode ser considerar os alunos que ficaram de recuperação e realizaram empréstimos no período."
   ]
  },
  {
   "cell_type": "markdown",
   "metadata": {},
   "source": [
    "Próximo passo:\n",
    "Além do gerenciamento anual das atividades, a diretoria também necessita que seja planejada uma programação diária das atividades. Por este motivo, verifique quais foram os horários com maior quantidade de empréstimos ao longo de um dia inteiro.\n",
    "Plote um gráfico de barras e analise quais seriam os melhores horários para alocar as demais atividades que não sejam de atendimento ao usuário."
   ]
  },
  {
   "cell_type": "markdown",
   "metadata": {},
   "source": [
    "Criar uma coluna com o horário"
   ]
  },
  {
   "cell_type": "code",
   "execution_count": 91,
   "metadata": {},
   "outputs": [],
   "source": [
    "emprestimos_completo[\"dia\"] = emprestimos_completo[\"data_emprestimo\"].dt.day\n",
    "emprestimos_completo[\"dia_da_semana\"] = emprestimos_completo[\"data_emprestimo\"].dt.day_of_week\n",
    "emprestimos_completo[\"horario\"] = emprestimos_completo[\"data_emprestimo\"].dt.strftime(date_format=\"%H:%M:%S.%f\")"
   ]
  },
  {
   "cell_type": "markdown",
   "metadata": {},
   "source": [
    "day_of_week retorna número inteiro sendo 0(segunda) e 6(domingo)"
   ]
  },
  {
   "cell_type": "code",
   "execution_count": 92,
   "metadata": {},
   "outputs": [],
   "source": [
    "dias_da_semana = [\"Segunda\", \"Terça\", \"Quarta\", \"Quinta\", \"Sexta\", \"Sábado\", \"Domingo\"]\n",
    "emprestimos_completo[\"dia_nome\"] = emprestimos_completo[\"dia_da_semana\"].apply(lambda x: dias_da_semana[x])"
   ]
  },
  {
   "cell_type": "code",
   "execution_count": 93,
   "metadata": {},
   "outputs": [
    {
     "name": "stdout",
     "output_type": "stream",
     "text": [
      "23:57:37.302000\n",
      "00:07:57.795000\n"
     ]
    }
   ],
   "source": [
    "#Verifica o horário de funcioanamento da biblioteca\n",
    "lista_de_horarios = emprestimos_completo[\"horario\"].unique().tolist()\n",
    "print(max(lista_de_horarios))\n",
    "print(min(lista_de_horarios))"
   ]
  },
  {
   "cell_type": "markdown",
   "metadata": {},
   "source": [
    "O menor horário é as 07:57 e o maior é 23:57, criar faixas"
   ]
  },
  {
   "cell_type": "code",
   "execution_count": 94,
   "metadata": {},
   "outputs": [
    {
     "data": {
      "text/plain": [
       "id_emprestimo                    int64\n",
       "codigo_barras                   object\n",
       "data_renovacao          datetime64[ns]\n",
       "data_emprestimo         datetime64[ns]\n",
       "data_devolucao          datetime64[ns]\n",
       "matricula_ou_siape              object\n",
       "tipo_vinculo_usuario            object\n",
       "id_exemplar                      int64\n",
       "colecao                         object\n",
       "biblioteca                      object\n",
       "status_material                 object\n",
       "localizacao                      int64\n",
       "cdu_valor                       object\n",
       "ano                              int32\n",
       "mes                              int32\n",
       "dia                              int32\n",
       "dia_da_semana                    int32\n",
       "horario                         object\n",
       "dia_nome                        object\n",
       "dtype: object"
      ]
     },
     "execution_count": 94,
     "metadata": {},
     "output_type": "execute_result"
    }
   ],
   "source": [
    "emprestimos_completo.dtypes"
   ]
  },
  {
   "cell_type": "code",
   "execution_count": 95,
   "metadata": {},
   "outputs": [],
   "source": [
    "# Converte a coluna 'horario' para datetime\n",
    "# Mesmo adicionando o formato do horário apenas, ele trás a data, porém deve ser usado apenas o horário na coluna \"horário\"\n",
    "emprestimos_completo[\"horario\"] = pd.to_datetime(emprestimos_completo[\"horario\"], format=\"%H:%M:%S.%f\")\n",
    "\n",
    "labels = [\n",
    "    \"7h-8h\", \"8h-9h\", \"9h-10h\", \"10h-11h\", \"11h-12h\", \"12h-13h\", \"13h-14h\", \n",
    "    \"14h-15h\", \"15h-16h\", \"16h-17h\", \"17h-18h\", \"18h-19h\", \"19h-20h\", \n",
    "    \"20h-21h\", \"21h-22h\", \"22h-23h\"\n",
    "]\n",
    "\n",
    "# Função semelhante ao CASE no SQL para criar caixas/clusters\n",
    "emprestimos_completo[\"faixa_horario\"] = pd.cut(\n",
    "    emprestimos_completo[\"horario\"].dt.hour,  # Extrai a hora do horário\n",
    "    bins=range(7, 24),  # Define os intervalos de 7h até 23h\n",
    "    labels=labels,  # Define os rótulos\n",
    "    right=False  # Define que o intervalo é fechado à esquerda (ex: 7h-8h inclui 7h, mas não 8h)\n",
    ")"
   ]
  },
  {
   "cell_type": "code",
   "execution_count": 96,
   "metadata": {},
   "outputs": [
    {
     "data": {
      "text/html": [
       "<div>\n",
       "<style scoped>\n",
       "    .dataframe tbody tr th:only-of-type {\n",
       "        vertical-align: middle;\n",
       "    }\n",
       "\n",
       "    .dataframe tbody tr th {\n",
       "        vertical-align: top;\n",
       "    }\n",
       "\n",
       "    .dataframe thead th {\n",
       "        text-align: right;\n",
       "    }\n",
       "</style>\n",
       "<table border=\"1\" class=\"dataframe\">\n",
       "  <thead>\n",
       "    <tr style=\"text-align: right;\">\n",
       "      <th></th>\n",
       "      <th>id_emprestimo</th>\n",
       "      <th>codigo_barras</th>\n",
       "      <th>data_renovacao</th>\n",
       "      <th>data_emprestimo</th>\n",
       "      <th>data_devolucao</th>\n",
       "      <th>matricula_ou_siape</th>\n",
       "      <th>tipo_vinculo_usuario</th>\n",
       "      <th>id_exemplar</th>\n",
       "      <th>colecao</th>\n",
       "      <th>biblioteca</th>\n",
       "      <th>status_material</th>\n",
       "      <th>localizacao</th>\n",
       "      <th>cdu_valor</th>\n",
       "      <th>ano</th>\n",
       "      <th>mes</th>\n",
       "      <th>dia</th>\n",
       "      <th>dia_da_semana</th>\n",
       "      <th>horario</th>\n",
       "      <th>dia_nome</th>\n",
       "      <th>faixa_horario</th>\n",
       "    </tr>\n",
       "  </thead>\n",
       "  <tbody>\n",
       "    <tr>\n",
       "      <th>0</th>\n",
       "      <td>709684</td>\n",
       "      <td>L095049</td>\n",
       "      <td>NaT</td>\n",
       "      <td>2010-01-04 07:44:10.721</td>\n",
       "      <td>2010-01-05 16:26:12.662</td>\n",
       "      <td>2008023265.0</td>\n",
       "      <td>ALUNO DE GRADUAÇÃO</td>\n",
       "      <td>13259</td>\n",
       "      <td>Acervo Circulante</td>\n",
       "      <td>Biblioteca Central Zila Mamede</td>\n",
       "      <td>REGULAR</td>\n",
       "      <td>630</td>\n",
       "      <td>Ciências aplicadas</td>\n",
       "      <td>2010</td>\n",
       "      <td>1</td>\n",
       "      <td>4</td>\n",
       "      <td>0</td>\n",
       "      <td>1900-01-01 07:44:10.721</td>\n",
       "      <td>Segunda</td>\n",
       "      <td>7h-8h</td>\n",
       "    </tr>\n",
       "    <tr>\n",
       "      <th>1</th>\n",
       "      <td>709685</td>\n",
       "      <td>L167050</td>\n",
       "      <td>NaT</td>\n",
       "      <td>2010-01-04 07:44:10.750</td>\n",
       "      <td>2010-01-12 07:34:13.934</td>\n",
       "      <td>2008023265.0</td>\n",
       "      <td>ALUNO DE GRADUAÇÃO</td>\n",
       "      <td>70865</td>\n",
       "      <td>Acervo Circulante</td>\n",
       "      <td>Biblioteca Central Zila Mamede</td>\n",
       "      <td>REGULAR</td>\n",
       "      <td>647</td>\n",
       "      <td>Ciências aplicadas</td>\n",
       "      <td>2010</td>\n",
       "      <td>1</td>\n",
       "      <td>4</td>\n",
       "      <td>0</td>\n",
       "      <td>1900-01-01 07:44:10.750</td>\n",
       "      <td>Segunda</td>\n",
       "      <td>7h-8h</td>\n",
       "    </tr>\n",
       "    <tr>\n",
       "      <th>2</th>\n",
       "      <td>709686</td>\n",
       "      <td>2006017618</td>\n",
       "      <td>2010-01-26 08:07:01.738</td>\n",
       "      <td>2010-01-04 08:08:44.081</td>\n",
       "      <td>2010-02-25 07:36:25.800</td>\n",
       "      <td>2008112114.0</td>\n",
       "      <td>ALUNO DE PÓS-GRADUAÇÃO</td>\n",
       "      <td>195347</td>\n",
       "      <td>Acervo Circulante</td>\n",
       "      <td>Biblioteca Setorial Prof. Rodolfo Helinski - E...</td>\n",
       "      <td>REGULAR</td>\n",
       "      <td>640</td>\n",
       "      <td>Ciências aplicadas</td>\n",
       "      <td>2010</td>\n",
       "      <td>1</td>\n",
       "      <td>4</td>\n",
       "      <td>0</td>\n",
       "      <td>1900-01-01 08:08:44.081</td>\n",
       "      <td>Segunda</td>\n",
       "      <td>8h-9h</td>\n",
       "    </tr>\n",
       "    <tr>\n",
       "      <th>3</th>\n",
       "      <td>709687</td>\n",
       "      <td>L184117</td>\n",
       "      <td>2010-01-18 11:07:46.470</td>\n",
       "      <td>2010-01-04 08:24:21.284</td>\n",
       "      <td>2010-02-03 08:58:45.692</td>\n",
       "      <td>200721119.0</td>\n",
       "      <td>ALUNO DE GRADUAÇÃO</td>\n",
       "      <td>131639</td>\n",
       "      <td>Acervo Circulante</td>\n",
       "      <td>Biblioteca Central Zila Mamede</td>\n",
       "      <td>REGULAR</td>\n",
       "      <td>609</td>\n",
       "      <td>Ciências aplicadas</td>\n",
       "      <td>2010</td>\n",
       "      <td>1</td>\n",
       "      <td>4</td>\n",
       "      <td>0</td>\n",
       "      <td>1900-01-01 08:24:21.284</td>\n",
       "      <td>Segunda</td>\n",
       "      <td>8h-9h</td>\n",
       "    </tr>\n",
       "    <tr>\n",
       "      <th>4</th>\n",
       "      <td>709688</td>\n",
       "      <td>2007027500</td>\n",
       "      <td>2010-01-19 15:59:26.464</td>\n",
       "      <td>2010-01-04 08:27:33.569</td>\n",
       "      <td>2010-02-03 13:06:30.662</td>\n",
       "      <td>2009045971.0</td>\n",
       "      <td>ALUNO DE GRADUAÇÃO</td>\n",
       "      <td>225646</td>\n",
       "      <td>Acervo Circulante</td>\n",
       "      <td>Biblioteca Central Zila Mamede</td>\n",
       "      <td>REGULAR</td>\n",
       "      <td>686</td>\n",
       "      <td>Ciências aplicadas</td>\n",
       "      <td>2010</td>\n",
       "      <td>1</td>\n",
       "      <td>4</td>\n",
       "      <td>0</td>\n",
       "      <td>1900-01-01 08:27:33.569</td>\n",
       "      <td>Segunda</td>\n",
       "      <td>8h-9h</td>\n",
       "    </tr>\n",
       "  </tbody>\n",
       "</table>\n",
       "</div>"
      ],
      "text/plain": [
       "   id_emprestimo codigo_barras          data_renovacao  \\\n",
       "0         709684       L095049                     NaT   \n",
       "1         709685       L167050                     NaT   \n",
       "2         709686    2006017618 2010-01-26 08:07:01.738   \n",
       "3         709687       L184117 2010-01-18 11:07:46.470   \n",
       "4         709688    2007027500 2010-01-19 15:59:26.464   \n",
       "\n",
       "          data_emprestimo          data_devolucao matricula_ou_siape  \\\n",
       "0 2010-01-04 07:44:10.721 2010-01-05 16:26:12.662       2008023265.0   \n",
       "1 2010-01-04 07:44:10.750 2010-01-12 07:34:13.934       2008023265.0   \n",
       "2 2010-01-04 08:08:44.081 2010-02-25 07:36:25.800       2008112114.0   \n",
       "3 2010-01-04 08:24:21.284 2010-02-03 08:58:45.692        200721119.0   \n",
       "4 2010-01-04 08:27:33.569 2010-02-03 13:06:30.662       2009045971.0   \n",
       "\n",
       "     tipo_vinculo_usuario  id_exemplar            colecao  \\\n",
       "0      ALUNO DE GRADUAÇÃO        13259  Acervo Circulante   \n",
       "1      ALUNO DE GRADUAÇÃO        70865  Acervo Circulante   \n",
       "2  ALUNO DE PÓS-GRADUAÇÃO       195347  Acervo Circulante   \n",
       "3      ALUNO DE GRADUAÇÃO       131639  Acervo Circulante   \n",
       "4      ALUNO DE GRADUAÇÃO       225646  Acervo Circulante   \n",
       "\n",
       "                                          biblioteca status_material  \\\n",
       "0                     Biblioteca Central Zila Mamede         REGULAR   \n",
       "1                     Biblioteca Central Zila Mamede         REGULAR   \n",
       "2  Biblioteca Setorial Prof. Rodolfo Helinski - E...         REGULAR   \n",
       "3                     Biblioteca Central Zila Mamede         REGULAR   \n",
       "4                     Biblioteca Central Zila Mamede         REGULAR   \n",
       "\n",
       "   localizacao           cdu_valor   ano  mes  dia  dia_da_semana  \\\n",
       "0          630  Ciências aplicadas  2010    1    4              0   \n",
       "1          647  Ciências aplicadas  2010    1    4              0   \n",
       "2          640  Ciências aplicadas  2010    1    4              0   \n",
       "3          609  Ciências aplicadas  2010    1    4              0   \n",
       "4          686  Ciências aplicadas  2010    1    4              0   \n",
       "\n",
       "                  horario dia_nome faixa_horario  \n",
       "0 1900-01-01 07:44:10.721  Segunda         7h-8h  \n",
       "1 1900-01-01 07:44:10.750  Segunda         7h-8h  \n",
       "2 1900-01-01 08:08:44.081  Segunda         8h-9h  \n",
       "3 1900-01-01 08:24:21.284  Segunda         8h-9h  \n",
       "4 1900-01-01 08:27:33.569  Segunda         8h-9h  "
      ]
     },
     "execution_count": 96,
     "metadata": {},
     "output_type": "execute_result"
    }
   ],
   "source": [
    "emprestimos_completo.head(5)"
   ]
  },
  {
   "cell_type": "code",
   "execution_count": 97,
   "metadata": {},
   "outputs": [
    {
     "data": {
      "text/html": [
       "<div>\n",
       "<style scoped>\n",
       "    .dataframe tbody tr th:only-of-type {\n",
       "        vertical-align: middle;\n",
       "    }\n",
       "\n",
       "    .dataframe tbody tr th {\n",
       "        vertical-align: top;\n",
       "    }\n",
       "\n",
       "    .dataframe thead th {\n",
       "        text-align: right;\n",
       "    }\n",
       "</style>\n",
       "<table border=\"1\" class=\"dataframe\">\n",
       "  <thead>\n",
       "    <tr style=\"text-align: right;\">\n",
       "      <th></th>\n",
       "      <th>id_emprestimo</th>\n",
       "      <th>ano</th>\n",
       "      <th>mes</th>\n",
       "      <th>dia</th>\n",
       "      <th>dia_nome</th>\n",
       "      <th>faixa_horario</th>\n",
       "    </tr>\n",
       "  </thead>\n",
       "  <tbody>\n",
       "    <tr>\n",
       "      <th>0</th>\n",
       "      <td>709684</td>\n",
       "      <td>2010</td>\n",
       "      <td>1</td>\n",
       "      <td>4</td>\n",
       "      <td>Segunda</td>\n",
       "      <td>7h-8h</td>\n",
       "    </tr>\n",
       "    <tr>\n",
       "      <th>1</th>\n",
       "      <td>709685</td>\n",
       "      <td>2010</td>\n",
       "      <td>1</td>\n",
       "      <td>4</td>\n",
       "      <td>Segunda</td>\n",
       "      <td>7h-8h</td>\n",
       "    </tr>\n",
       "    <tr>\n",
       "      <th>2</th>\n",
       "      <td>709686</td>\n",
       "      <td>2010</td>\n",
       "      <td>1</td>\n",
       "      <td>4</td>\n",
       "      <td>Segunda</td>\n",
       "      <td>8h-9h</td>\n",
       "    </tr>\n",
       "    <tr>\n",
       "      <th>3</th>\n",
       "      <td>709687</td>\n",
       "      <td>2010</td>\n",
       "      <td>1</td>\n",
       "      <td>4</td>\n",
       "      <td>Segunda</td>\n",
       "      <td>8h-9h</td>\n",
       "    </tr>\n",
       "    <tr>\n",
       "      <th>4</th>\n",
       "      <td>709688</td>\n",
       "      <td>2010</td>\n",
       "      <td>1</td>\n",
       "      <td>4</td>\n",
       "      <td>Segunda</td>\n",
       "      <td>8h-9h</td>\n",
       "    </tr>\n",
       "  </tbody>\n",
       "</table>\n",
       "</div>"
      ],
      "text/plain": [
       "   id_emprestimo   ano  mes  dia dia_nome faixa_horario\n",
       "0         709684  2010    1    4  Segunda         7h-8h\n",
       "1         709685  2010    1    4  Segunda         7h-8h\n",
       "2         709686  2010    1    4  Segunda         8h-9h\n",
       "3         709687  2010    1    4  Segunda         8h-9h\n",
       "4         709688  2010    1    4  Segunda         8h-9h"
      ]
     },
     "execution_count": 97,
     "metadata": {},
     "output_type": "execute_result"
    }
   ],
   "source": [
    "emprestimo_temporal = emprestimos_completo[[\"id_emprestimo\", \"ano\", \"mes\", \"dia\", \"dia_nome\", \"faixa_horario\"]]\n",
    "emprestimo_temporal.head(5)"
   ]
  },
  {
   "cell_type": "markdown",
   "metadata": {},
   "source": [
    "media_por_faixa = agrupado.groupby('faixa_horario')['quantidade'].mean().reset_index(name='media_emprestimos')"
   ]
  },
  {
   "cell_type": "code",
   "execution_count": 98,
   "metadata": {},
   "outputs": [],
   "source": [
    "emprestimo_temporal_agrupado = emprestimo_temporal.groupby([\"dia_nome\", \"faixa_horario\"], observed=False).size().reset_index(name=\"quantidade\")\n",
    "emprestimo_temporal_agrupado_resumido = emprestimo_temporal_agrupado.groupby(\"faixa_horario\", observed=False)[\"quantidade\"].mean().reset_index(name=\"media_emprestimos\")"
   ]
  },
  {
   "cell_type": "code",
   "execution_count": 99,
   "metadata": {},
   "outputs": [
    {
     "data": {
      "text/html": [
       "<div>\n",
       "<style scoped>\n",
       "    .dataframe tbody tr th:only-of-type {\n",
       "        vertical-align: middle;\n",
       "    }\n",
       "\n",
       "    .dataframe tbody tr th {\n",
       "        vertical-align: top;\n",
       "    }\n",
       "\n",
       "    .dataframe thead th {\n",
       "        text-align: right;\n",
       "    }\n",
       "</style>\n",
       "<table border=\"1\" class=\"dataframe\">\n",
       "  <thead>\n",
       "    <tr style=\"text-align: right;\">\n",
       "      <th></th>\n",
       "      <th>faixa_horario</th>\n",
       "      <th>media_emprestimos</th>\n",
       "    </tr>\n",
       "  </thead>\n",
       "  <tbody>\n",
       "    <tr>\n",
       "      <th>15</th>\n",
       "      <td>22h-23h</td>\n",
       "      <td>35.285714</td>\n",
       "    </tr>\n",
       "    <tr>\n",
       "      <th>0</th>\n",
       "      <td>7h-8h</td>\n",
       "      <td>2682.428571</td>\n",
       "    </tr>\n",
       "    <tr>\n",
       "      <th>14</th>\n",
       "      <td>21h-22h</td>\n",
       "      <td>7313.000000</td>\n",
       "    </tr>\n",
       "    <tr>\n",
       "      <th>12</th>\n",
       "      <td>19h-20h</td>\n",
       "      <td>14589.857143</td>\n",
       "    </tr>\n",
       "    <tr>\n",
       "      <th>1</th>\n",
       "      <td>8h-9h</td>\n",
       "      <td>14773.714286</td>\n",
       "    </tr>\n",
       "    <tr>\n",
       "      <th>6</th>\n",
       "      <td>13h-14h</td>\n",
       "      <td>18141.000000</td>\n",
       "    </tr>\n",
       "    <tr>\n",
       "      <th>13</th>\n",
       "      <td>20h-21h</td>\n",
       "      <td>18245.142857</td>\n",
       "    </tr>\n",
       "    <tr>\n",
       "      <th>2</th>\n",
       "      <td>9h-10h</td>\n",
       "      <td>18753.285714</td>\n",
       "    </tr>\n",
       "    <tr>\n",
       "      <th>5</th>\n",
       "      <td>12h-13h</td>\n",
       "      <td>21250.571429</td>\n",
       "    </tr>\n",
       "    <tr>\n",
       "      <th>7</th>\n",
       "      <td>14h-15h</td>\n",
       "      <td>21553.714286</td>\n",
       "    </tr>\n",
       "    <tr>\n",
       "      <th>8</th>\n",
       "      <td>15h-16h</td>\n",
       "      <td>23810.285714</td>\n",
       "    </tr>\n",
       "    <tr>\n",
       "      <th>4</th>\n",
       "      <td>11h-12h</td>\n",
       "      <td>25721.142857</td>\n",
       "    </tr>\n",
       "    <tr>\n",
       "      <th>11</th>\n",
       "      <td>18h-19h</td>\n",
       "      <td>26074.285714</td>\n",
       "    </tr>\n",
       "    <tr>\n",
       "      <th>10</th>\n",
       "      <td>17h-18h</td>\n",
       "      <td>26477.142857</td>\n",
       "    </tr>\n",
       "    <tr>\n",
       "      <th>3</th>\n",
       "      <td>10h-11h</td>\n",
       "      <td>26548.428571</td>\n",
       "    </tr>\n",
       "    <tr>\n",
       "      <th>9</th>\n",
       "      <td>16h-17h</td>\n",
       "      <td>30093.571429</td>\n",
       "    </tr>\n",
       "  </tbody>\n",
       "</table>\n",
       "</div>"
      ],
      "text/plain": [
       "   faixa_horario  media_emprestimos\n",
       "15       22h-23h          35.285714\n",
       "0          7h-8h        2682.428571\n",
       "14       21h-22h        7313.000000\n",
       "12       19h-20h       14589.857143\n",
       "1          8h-9h       14773.714286\n",
       "6        13h-14h       18141.000000\n",
       "13       20h-21h       18245.142857\n",
       "2         9h-10h       18753.285714\n",
       "5        12h-13h       21250.571429\n",
       "7        14h-15h       21553.714286\n",
       "8        15h-16h       23810.285714\n",
       "4        11h-12h       25721.142857\n",
       "11       18h-19h       26074.285714\n",
       "10       17h-18h       26477.142857\n",
       "3        10h-11h       26548.428571\n",
       "9        16h-17h       30093.571429"
      ]
     },
     "metadata": {},
     "output_type": "display_data"
    }
   ],
   "source": [
    "emprestimo_temporal_agrupado_resumido_ordenado = emprestimo_temporal_agrupado_resumido.sort_values(by=[\"media_emprestimos\"], ascending=True)\n",
    "display(emprestimo_temporal_agrupado_resumido_ordenado)"
   ]
  },
  {
   "cell_type": "code",
   "execution_count": 100,
   "metadata": {},
   "outputs": [
    {
     "data": {
      "application/vnd.plotly.v1+json": {
       "config": {
        "plotlyServerURL": "https://plot.ly"
       },
       "data": [
        {
         "alignmentgroup": "True",
         "hovertemplate": "faixa_horario=%{x}<br>media_emprestimos=%{marker.color}<extra></extra>",
         "legendgroup": "",
         "marker": {
          "color": [
           2682.4285714285716,
           14773.714285714286,
           18753.285714285714,
           26548.428571428572,
           25721.14285714286,
           21250.571428571428,
           18141,
           21553.714285714286,
           23810.285714285714,
           30093.571428571428,
           26477.14285714286,
           26074.285714285714,
           14589.857142857143,
           18245.14285714286,
           7313,
           35.285714285714285
          ],
          "coloraxis": "coloraxis",
          "pattern": {
           "shape": ""
          }
         },
         "name": "",
         "offsetgroup": "",
         "orientation": "v",
         "showlegend": false,
         "textposition": "auto",
         "type": "bar",
         "x": [
          "7h-8h",
          "8h-9h",
          "9h-10h",
          "10h-11h",
          "11h-12h",
          "12h-13h",
          "13h-14h",
          "14h-15h",
          "15h-16h",
          "16h-17h",
          "17h-18h",
          "18h-19h",
          "19h-20h",
          "20h-21h",
          "21h-22h",
          "22h-23h"
         ],
         "xaxis": "x",
         "y": [
          2682.4285714285716,
          14773.714285714286,
          18753.285714285714,
          26548.428571428572,
          25721.14285714286,
          21250.571428571428,
          18141,
          21553.714285714286,
          23810.285714285714,
          30093.571428571428,
          26477.14285714286,
          26074.285714285714,
          14589.857142857143,
          18245.14285714286,
          7313,
          35.285714285714285
         ],
         "yaxis": "y"
        }
       ],
       "layout": {
        "barmode": "relative",
        "coloraxis": {
         "colorbar": {
          "title": {
           "text": "media_emprestimos"
          }
         },
         "colorscale": [
          [
           0,
           "rgb(247,251,255)"
          ],
          [
           0.125,
           "rgb(222,235,247)"
          ],
          [
           0.25,
           "rgb(198,219,239)"
          ],
          [
           0.375,
           "rgb(158,202,225)"
          ],
          [
           0.5,
           "rgb(107,174,214)"
          ],
          [
           0.625,
           "rgb(66,146,198)"
          ],
          [
           0.75,
           "rgb(33,113,181)"
          ],
          [
           0.875,
           "rgb(8,81,156)"
          ],
          [
           1,
           "rgb(8,48,107)"
          ]
         ]
        },
        "legend": {
         "tracegroupgap": 0
        },
        "margin": {
         "t": 60
        },
        "showlegend": false,
        "template": {
         "data": {
          "bar": [
           {
            "error_x": {
             "color": "#2a3f5f"
            },
            "error_y": {
             "color": "#2a3f5f"
            },
            "marker": {
             "line": {
              "color": "#E5ECF6",
              "width": 0.5
             },
             "pattern": {
              "fillmode": "overlay",
              "size": 10,
              "solidity": 0.2
             }
            },
            "type": "bar"
           }
          ],
          "barpolar": [
           {
            "marker": {
             "line": {
              "color": "#E5ECF6",
              "width": 0.5
             },
             "pattern": {
              "fillmode": "overlay",
              "size": 10,
              "solidity": 0.2
             }
            },
            "type": "barpolar"
           }
          ],
          "carpet": [
           {
            "aaxis": {
             "endlinecolor": "#2a3f5f",
             "gridcolor": "white",
             "linecolor": "white",
             "minorgridcolor": "white",
             "startlinecolor": "#2a3f5f"
            },
            "baxis": {
             "endlinecolor": "#2a3f5f",
             "gridcolor": "white",
             "linecolor": "white",
             "minorgridcolor": "white",
             "startlinecolor": "#2a3f5f"
            },
            "type": "carpet"
           }
          ],
          "choropleth": [
           {
            "colorbar": {
             "outlinewidth": 0,
             "ticks": ""
            },
            "type": "choropleth"
           }
          ],
          "contour": [
           {
            "colorbar": {
             "outlinewidth": 0,
             "ticks": ""
            },
            "colorscale": [
             [
              0,
              "#0d0887"
             ],
             [
              0.1111111111111111,
              "#46039f"
             ],
             [
              0.2222222222222222,
              "#7201a8"
             ],
             [
              0.3333333333333333,
              "#9c179e"
             ],
             [
              0.4444444444444444,
              "#bd3786"
             ],
             [
              0.5555555555555556,
              "#d8576b"
             ],
             [
              0.6666666666666666,
              "#ed7953"
             ],
             [
              0.7777777777777778,
              "#fb9f3a"
             ],
             [
              0.8888888888888888,
              "#fdca26"
             ],
             [
              1,
              "#f0f921"
             ]
            ],
            "type": "contour"
           }
          ],
          "contourcarpet": [
           {
            "colorbar": {
             "outlinewidth": 0,
             "ticks": ""
            },
            "type": "contourcarpet"
           }
          ],
          "heatmap": [
           {
            "colorbar": {
             "outlinewidth": 0,
             "ticks": ""
            },
            "colorscale": [
             [
              0,
              "#0d0887"
             ],
             [
              0.1111111111111111,
              "#46039f"
             ],
             [
              0.2222222222222222,
              "#7201a8"
             ],
             [
              0.3333333333333333,
              "#9c179e"
             ],
             [
              0.4444444444444444,
              "#bd3786"
             ],
             [
              0.5555555555555556,
              "#d8576b"
             ],
             [
              0.6666666666666666,
              "#ed7953"
             ],
             [
              0.7777777777777778,
              "#fb9f3a"
             ],
             [
              0.8888888888888888,
              "#fdca26"
             ],
             [
              1,
              "#f0f921"
             ]
            ],
            "type": "heatmap"
           }
          ],
          "heatmapgl": [
           {
            "colorbar": {
             "outlinewidth": 0,
             "ticks": ""
            },
            "colorscale": [
             [
              0,
              "#0d0887"
             ],
             [
              0.1111111111111111,
              "#46039f"
             ],
             [
              0.2222222222222222,
              "#7201a8"
             ],
             [
              0.3333333333333333,
              "#9c179e"
             ],
             [
              0.4444444444444444,
              "#bd3786"
             ],
             [
              0.5555555555555556,
              "#d8576b"
             ],
             [
              0.6666666666666666,
              "#ed7953"
             ],
             [
              0.7777777777777778,
              "#fb9f3a"
             ],
             [
              0.8888888888888888,
              "#fdca26"
             ],
             [
              1,
              "#f0f921"
             ]
            ],
            "type": "heatmapgl"
           }
          ],
          "histogram": [
           {
            "marker": {
             "pattern": {
              "fillmode": "overlay",
              "size": 10,
              "solidity": 0.2
             }
            },
            "type": "histogram"
           }
          ],
          "histogram2d": [
           {
            "colorbar": {
             "outlinewidth": 0,
             "ticks": ""
            },
            "colorscale": [
             [
              0,
              "#0d0887"
             ],
             [
              0.1111111111111111,
              "#46039f"
             ],
             [
              0.2222222222222222,
              "#7201a8"
             ],
             [
              0.3333333333333333,
              "#9c179e"
             ],
             [
              0.4444444444444444,
              "#bd3786"
             ],
             [
              0.5555555555555556,
              "#d8576b"
             ],
             [
              0.6666666666666666,
              "#ed7953"
             ],
             [
              0.7777777777777778,
              "#fb9f3a"
             ],
             [
              0.8888888888888888,
              "#fdca26"
             ],
             [
              1,
              "#f0f921"
             ]
            ],
            "type": "histogram2d"
           }
          ],
          "histogram2dcontour": [
           {
            "colorbar": {
             "outlinewidth": 0,
             "ticks": ""
            },
            "colorscale": [
             [
              0,
              "#0d0887"
             ],
             [
              0.1111111111111111,
              "#46039f"
             ],
             [
              0.2222222222222222,
              "#7201a8"
             ],
             [
              0.3333333333333333,
              "#9c179e"
             ],
             [
              0.4444444444444444,
              "#bd3786"
             ],
             [
              0.5555555555555556,
              "#d8576b"
             ],
             [
              0.6666666666666666,
              "#ed7953"
             ],
             [
              0.7777777777777778,
              "#fb9f3a"
             ],
             [
              0.8888888888888888,
              "#fdca26"
             ],
             [
              1,
              "#f0f921"
             ]
            ],
            "type": "histogram2dcontour"
           }
          ],
          "mesh3d": [
           {
            "colorbar": {
             "outlinewidth": 0,
             "ticks": ""
            },
            "type": "mesh3d"
           }
          ],
          "parcoords": [
           {
            "line": {
             "colorbar": {
              "outlinewidth": 0,
              "ticks": ""
             }
            },
            "type": "parcoords"
           }
          ],
          "pie": [
           {
            "automargin": true,
            "type": "pie"
           }
          ],
          "scatter": [
           {
            "fillpattern": {
             "fillmode": "overlay",
             "size": 10,
             "solidity": 0.2
            },
            "type": "scatter"
           }
          ],
          "scatter3d": [
           {
            "line": {
             "colorbar": {
              "outlinewidth": 0,
              "ticks": ""
             }
            },
            "marker": {
             "colorbar": {
              "outlinewidth": 0,
              "ticks": ""
             }
            },
            "type": "scatter3d"
           }
          ],
          "scattercarpet": [
           {
            "marker": {
             "colorbar": {
              "outlinewidth": 0,
              "ticks": ""
             }
            },
            "type": "scattercarpet"
           }
          ],
          "scattergeo": [
           {
            "marker": {
             "colorbar": {
              "outlinewidth": 0,
              "ticks": ""
             }
            },
            "type": "scattergeo"
           }
          ],
          "scattergl": [
           {
            "marker": {
             "colorbar": {
              "outlinewidth": 0,
              "ticks": ""
             }
            },
            "type": "scattergl"
           }
          ],
          "scattermapbox": [
           {
            "marker": {
             "colorbar": {
              "outlinewidth": 0,
              "ticks": ""
             }
            },
            "type": "scattermapbox"
           }
          ],
          "scatterpolar": [
           {
            "marker": {
             "colorbar": {
              "outlinewidth": 0,
              "ticks": ""
             }
            },
            "type": "scatterpolar"
           }
          ],
          "scatterpolargl": [
           {
            "marker": {
             "colorbar": {
              "outlinewidth": 0,
              "ticks": ""
             }
            },
            "type": "scatterpolargl"
           }
          ],
          "scatterternary": [
           {
            "marker": {
             "colorbar": {
              "outlinewidth": 0,
              "ticks": ""
             }
            },
            "type": "scatterternary"
           }
          ],
          "surface": [
           {
            "colorbar": {
             "outlinewidth": 0,
             "ticks": ""
            },
            "colorscale": [
             [
              0,
              "#0d0887"
             ],
             [
              0.1111111111111111,
              "#46039f"
             ],
             [
              0.2222222222222222,
              "#7201a8"
             ],
             [
              0.3333333333333333,
              "#9c179e"
             ],
             [
              0.4444444444444444,
              "#bd3786"
             ],
             [
              0.5555555555555556,
              "#d8576b"
             ],
             [
              0.6666666666666666,
              "#ed7953"
             ],
             [
              0.7777777777777778,
              "#fb9f3a"
             ],
             [
              0.8888888888888888,
              "#fdca26"
             ],
             [
              1,
              "#f0f921"
             ]
            ],
            "type": "surface"
           }
          ],
          "table": [
           {
            "cells": {
             "fill": {
              "color": "#EBF0F8"
             },
             "line": {
              "color": "white"
             }
            },
            "header": {
             "fill": {
              "color": "#C8D4E3"
             },
             "line": {
              "color": "white"
             }
            },
            "type": "table"
           }
          ]
         },
         "layout": {
          "annotationdefaults": {
           "arrowcolor": "#2a3f5f",
           "arrowhead": 0,
           "arrowwidth": 1
          },
          "autotypenumbers": "strict",
          "coloraxis": {
           "colorbar": {
            "outlinewidth": 0,
            "ticks": ""
           }
          },
          "colorscale": {
           "diverging": [
            [
             0,
             "#8e0152"
            ],
            [
             0.1,
             "#c51b7d"
            ],
            [
             0.2,
             "#de77ae"
            ],
            [
             0.3,
             "#f1b6da"
            ],
            [
             0.4,
             "#fde0ef"
            ],
            [
             0.5,
             "#f7f7f7"
            ],
            [
             0.6,
             "#e6f5d0"
            ],
            [
             0.7,
             "#b8e186"
            ],
            [
             0.8,
             "#7fbc41"
            ],
            [
             0.9,
             "#4d9221"
            ],
            [
             1,
             "#276419"
            ]
           ],
           "sequential": [
            [
             0,
             "#0d0887"
            ],
            [
             0.1111111111111111,
             "#46039f"
            ],
            [
             0.2222222222222222,
             "#7201a8"
            ],
            [
             0.3333333333333333,
             "#9c179e"
            ],
            [
             0.4444444444444444,
             "#bd3786"
            ],
            [
             0.5555555555555556,
             "#d8576b"
            ],
            [
             0.6666666666666666,
             "#ed7953"
            ],
            [
             0.7777777777777778,
             "#fb9f3a"
            ],
            [
             0.8888888888888888,
             "#fdca26"
            ],
            [
             1,
             "#f0f921"
            ]
           ],
           "sequentialminus": [
            [
             0,
             "#0d0887"
            ],
            [
             0.1111111111111111,
             "#46039f"
            ],
            [
             0.2222222222222222,
             "#7201a8"
            ],
            [
             0.3333333333333333,
             "#9c179e"
            ],
            [
             0.4444444444444444,
             "#bd3786"
            ],
            [
             0.5555555555555556,
             "#d8576b"
            ],
            [
             0.6666666666666666,
             "#ed7953"
            ],
            [
             0.7777777777777778,
             "#fb9f3a"
            ],
            [
             0.8888888888888888,
             "#fdca26"
            ],
            [
             1,
             "#f0f921"
            ]
           ]
          },
          "colorway": [
           "#636efa",
           "#EF553B",
           "#00cc96",
           "#ab63fa",
           "#FFA15A",
           "#19d3f3",
           "#FF6692",
           "#B6E880",
           "#FF97FF",
           "#FECB52"
          ],
          "font": {
           "color": "#2a3f5f"
          },
          "geo": {
           "bgcolor": "white",
           "lakecolor": "white",
           "landcolor": "#E5ECF6",
           "showlakes": true,
           "showland": true,
           "subunitcolor": "white"
          },
          "hoverlabel": {
           "align": "left"
          },
          "hovermode": "closest",
          "mapbox": {
           "style": "light"
          },
          "paper_bgcolor": "white",
          "plot_bgcolor": "#E5ECF6",
          "polar": {
           "angularaxis": {
            "gridcolor": "white",
            "linecolor": "white",
            "ticks": ""
           },
           "bgcolor": "#E5ECF6",
           "radialaxis": {
            "gridcolor": "white",
            "linecolor": "white",
            "ticks": ""
           }
          },
          "scene": {
           "xaxis": {
            "backgroundcolor": "#E5ECF6",
            "gridcolor": "white",
            "gridwidth": 2,
            "linecolor": "white",
            "showbackground": true,
            "ticks": "",
            "zerolinecolor": "white"
           },
           "yaxis": {
            "backgroundcolor": "#E5ECF6",
            "gridcolor": "white",
            "gridwidth": 2,
            "linecolor": "white",
            "showbackground": true,
            "ticks": "",
            "zerolinecolor": "white"
           },
           "zaxis": {
            "backgroundcolor": "#E5ECF6",
            "gridcolor": "white",
            "gridwidth": 2,
            "linecolor": "white",
            "showbackground": true,
            "ticks": "",
            "zerolinecolor": "white"
           }
          },
          "shapedefaults": {
           "line": {
            "color": "#2a3f5f"
           }
          },
          "ternary": {
           "aaxis": {
            "gridcolor": "white",
            "linecolor": "white",
            "ticks": ""
           },
           "baxis": {
            "gridcolor": "white",
            "linecolor": "white",
            "ticks": ""
           },
           "bgcolor": "#E5ECF6",
           "caxis": {
            "gridcolor": "white",
            "linecolor": "white",
            "ticks": ""
           }
          },
          "title": {
           "x": 0.05
          },
          "xaxis": {
           "automargin": true,
           "gridcolor": "white",
           "linecolor": "white",
           "ticks": "",
           "title": {
            "standoff": 15
           },
           "zerolinecolor": "white",
           "zerolinewidth": 2
          },
          "yaxis": {
           "automargin": true,
           "gridcolor": "white",
           "linecolor": "white",
           "ticks": "",
           "title": {
            "standoff": 15
           },
           "zerolinecolor": "white",
           "zerolinewidth": 2
          }
         }
        },
        "xaxis": {
         "anchor": "y",
         "domain": [
          0,
          1
         ],
         "title": {
          "text": "faixa_horario"
         }
        },
        "yaxis": {
         "anchor": "x",
         "domain": [
          0,
          1
         ],
         "title": {
          "text": "media_emprestimos"
         }
        }
       }
      }
     },
     "metadata": {},
     "output_type": "display_data"
    }
   ],
   "source": [
    "fig3 = px.bar(emprestimo_temporal_agrupado_resumido, \n",
    "              x=\"faixa_horario\", y=\"media_emprestimos\", \n",
    "              orientation=\"v\",  \n",
    "              color=\"media_emprestimos\",\n",
    "              color_continuous_scale=\"Blues\")\n",
    "\n",
    "fig3.update_layout(showlegend=False)\n",
    "\n",
    "fig3.show()"
   ]
  },
  {
   "cell_type": "markdown",
   "metadata": {},
   "source": [
    "Com base no gráfico, os melhores horários para alocarmos atividades que não estejam relacionadas a atendimento ao público, são nas faixas das 7h-8h, 21h-22 e 19h-20h."
   ]
  },
  {
   "cell_type": "markdown",
   "metadata": {},
   "source": [
    "4º Dia: Gere uma tabela de frequência e com o percentual para cada variável.\n",
    "Variáveis: \n",
    "    - bibliotecas, \n",
    "    - coleções, \n",
    "    - tipos de vínculo dos usuários e  \n",
    "    - classificação geral da CDU"
   ]
  },
  {
   "cell_type": "markdown",
   "metadata": {},
   "source": [
    "1º passo: verificar quais são os valores únicos dentro de cada variável"
   ]
  },
  {
   "cell_type": "code",
   "execution_count": 101,
   "metadata": {},
   "outputs": [
    {
     "name": "stdout",
     "output_type": "stream",
     "text": [
      "<class 'pandas.core.series.Series'>\n",
      "<class 'numpy.ndarray'>\n"
     ]
    }
   ],
   "source": [
    "### BIBLIOTECAS ###\n",
    "#formato Serie do pandas\n",
    "bibliotecas = emprestimos_completo[\"biblioteca\"]\n",
    "print(type(bibliotecas))\n",
    "\n",
    "#formato array do pandas com numpy\n",
    "valores_unicos_bibliotecas = pd.unique(bibliotecas)\n",
    "#print(valores_unicos_bibliotecas)\n",
    "print(type(valores_unicos_bibliotecas))\n",
    "\n"
   ]
  },
  {
   "cell_type": "code",
   "execution_count": 102,
   "metadata": {},
   "outputs": [],
   "source": [
    "### COLEÇÕES ###\n",
    "colecoes = emprestimos_completo[\"colecao\"]\n",
    "valores_unicos_colecoes = pd.unique(colecoes)"
   ]
  },
  {
   "cell_type": "code",
   "execution_count": 103,
   "metadata": {},
   "outputs": [],
   "source": [
    "### TIPO DE VÍNCULO ###\n",
    "vinculos = emprestimos_completo[\"tipo_vinculo_usuario\"]\n",
    "valores_unicos_vinculos = pd.unique(vinculos)"
   ]
  },
  {
   "cell_type": "code",
   "execution_count": 104,
   "metadata": {},
   "outputs": [],
   "source": [
    "### CLASSIFICAÇÃO GERAL CDU ###\n",
    "cdu = emprestimos_completo[\"cdu_valor\"]\n",
    "valores_unicos_cdu = pd.unique(cdu)"
   ]
  },
  {
   "cell_type": "markdown",
   "metadata": {},
   "source": [
    "2º Verificado os valores únicos, construir a tabela frequência para os empréstimos que aconteceram:"
   ]
  },
  {
   "cell_type": "code",
   "execution_count": 105,
   "metadata": {},
   "outputs": [
    {
     "data": {
      "text/plain": [
       "Index(['id_emprestimo', 'codigo_barras', 'data_renovacao', 'data_emprestimo',\n",
       "       'data_devolucao', 'matricula_ou_siape', 'tipo_vinculo_usuario',\n",
       "       'id_exemplar', 'colecao', 'biblioteca', 'status_material',\n",
       "       'localizacao', 'cdu_valor', 'ano', 'mes', 'dia', 'dia_da_semana',\n",
       "       'horario', 'dia_nome', 'faixa_horario'],\n",
       "      dtype='object')"
      ]
     },
     "execution_count": 105,
     "metadata": {},
     "output_type": "execute_result"
    }
   ],
   "source": [
    "emprestimos_completo.columns"
   ]
  },
  {
   "cell_type": "code",
   "execution_count": 106,
   "metadata": {},
   "outputs": [],
   "source": [
    "lista_tabelas_frequencia = []\n",
    "\n",
    "def cria_tabela_frequencia(colunas_interesse_tabela_frequencia):\n",
    "    for coluna in colunas_interesse_tabela_frequencia:\n",
    "        tabela = emprestimos_completo[[\"id_emprestimo\", coluna]]\n",
    "        tabela_frequencia = tabela.groupby(coluna).count().reset_index()\n",
    "        tabela_frequencia = tabela_frequencia.rename(columns={\"id_emprestimo\":\"contagem_emprestimo\"})\n",
    "        total = sum(tabela_frequencia[\"contagem_emprestimo\"])\n",
    "        for i in range(len(tabela_frequencia[\"contagem_emprestimo\"])):\n",
    "            if i == 0:\n",
    "                tabela_frequencia.loc[i ,\"fi\"] = tabela_frequencia.loc[i, \"contagem_emprestimo\"]\n",
    "            else:\n",
    "                tabela_frequencia.loc[i ,\"fi\"] = tabela_frequencia.loc[(i-1), \"fi\"] + tabela_frequencia.loc[i, \"contagem_emprestimo\"]\n",
    "        # A título de curiosidade, o loop funciona muito bem, porém existe a função .cumsum() que realiza a mesma coisa de maneira mais eficiente\n",
    "        for n in range(len(tabela_frequencia[\"contagem_emprestimo\"])):\n",
    "            tabela_frequencia.loc[n, \"fri\"] = round(tabela_frequencia.loc[n, \"contagem_emprestimo\"]/total, 4)\n",
    "        for x in range(len(tabela_frequencia[\"contagem_emprestimo\"])):\n",
    "            if x == 0:\n",
    "                tabela_frequencia.loc[x, \"Fri\"] = round(tabela_frequencia.loc[x, \"fri\"], 4)\n",
    "            else:\n",
    "                tabela_frequencia.loc[x, \"Fri\"] = round(tabela_frequencia.loc[(x-1), \"Fri\"], 4) + round(tabela_frequencia.loc[x, \"fri\"], 4)\n",
    "        lista_tabelas_frequencia.append(tabela_frequencia)\n",
    "        #display(tabela_frequencia)"
   ]
  },
  {
   "cell_type": "code",
   "execution_count": 107,
   "metadata": {},
   "outputs": [
    {
     "data": {
      "text/html": [
       "<div>\n",
       "<style scoped>\n",
       "    .dataframe tbody tr th:only-of-type {\n",
       "        vertical-align: middle;\n",
       "    }\n",
       "\n",
       "    .dataframe tbody tr th {\n",
       "        vertical-align: top;\n",
       "    }\n",
       "\n",
       "    .dataframe thead th {\n",
       "        text-align: right;\n",
       "    }\n",
       "</style>\n",
       "<table border=\"1\" class=\"dataframe\">\n",
       "  <thead>\n",
       "    <tr style=\"text-align: right;\">\n",
       "      <th></th>\n",
       "      <th>tipo_vinculo_usuario</th>\n",
       "      <th>contagem_emprestimo</th>\n",
       "      <th>fi</th>\n",
       "      <th>fri</th>\n",
       "      <th>Fri</th>\n",
       "    </tr>\n",
       "  </thead>\n",
       "  <tbody>\n",
       "    <tr>\n",
       "      <th>0</th>\n",
       "      <td>ALUNO DE GRADUAÇÃO</td>\n",
       "      <td>1612324</td>\n",
       "      <td>1612324.0</td>\n",
       "      <td>0.7780</td>\n",
       "      <td>0.7780</td>\n",
       "    </tr>\n",
       "    <tr>\n",
       "      <th>1</th>\n",
       "      <td>ALUNO DE PÓS-GRADUAÇÃO</td>\n",
       "      <td>302541</td>\n",
       "      <td>1914865.0</td>\n",
       "      <td>0.1460</td>\n",
       "      <td>0.9240</td>\n",
       "    </tr>\n",
       "    <tr>\n",
       "      <th>2</th>\n",
       "      <td>ALUNO MÉDIO/TÉCNICO</td>\n",
       "      <td>28029</td>\n",
       "      <td>1942894.0</td>\n",
       "      <td>0.0135</td>\n",
       "      <td>0.9375</td>\n",
       "    </tr>\n",
       "    <tr>\n",
       "      <th>3</th>\n",
       "      <td>DOCENTE</td>\n",
       "      <td>70981</td>\n",
       "      <td>2013875.0</td>\n",
       "      <td>0.0342</td>\n",
       "      <td>0.9717</td>\n",
       "    </tr>\n",
       "    <tr>\n",
       "      <th>4</th>\n",
       "      <td>DOCENTE EXTERNO</td>\n",
       "      <td>23949</td>\n",
       "      <td>2037824.0</td>\n",
       "      <td>0.0116</td>\n",
       "      <td>0.9833</td>\n",
       "    </tr>\n",
       "    <tr>\n",
       "      <th>5</th>\n",
       "      <td>OUTROS</td>\n",
       "      <td>5</td>\n",
       "      <td>2037829.0</td>\n",
       "      <td>0.0000</td>\n",
       "      <td>0.9833</td>\n",
       "    </tr>\n",
       "    <tr>\n",
       "      <th>6</th>\n",
       "      <td>SERVIDOR TÉCNICO-ADMINISTRATIVO</td>\n",
       "      <td>32184</td>\n",
       "      <td>2070013.0</td>\n",
       "      <td>0.0155</td>\n",
       "      <td>0.9988</td>\n",
       "    </tr>\n",
       "    <tr>\n",
       "      <th>7</th>\n",
       "      <td>USUÁRIO EXTERNO</td>\n",
       "      <td>2509</td>\n",
       "      <td>2072522.0</td>\n",
       "      <td>0.0012</td>\n",
       "      <td>1.0000</td>\n",
       "    </tr>\n",
       "  </tbody>\n",
       "</table>\n",
       "</div>"
      ],
      "text/plain": [
       "              tipo_vinculo_usuario  contagem_emprestimo         fi     fri  \\\n",
       "0               ALUNO DE GRADUAÇÃO              1612324  1612324.0  0.7780   \n",
       "1           ALUNO DE PÓS-GRADUAÇÃO               302541  1914865.0  0.1460   \n",
       "2              ALUNO MÉDIO/TÉCNICO                28029  1942894.0  0.0135   \n",
       "3                          DOCENTE                70981  2013875.0  0.0342   \n",
       "4                  DOCENTE EXTERNO                23949  2037824.0  0.0116   \n",
       "5                           OUTROS                    5  2037829.0  0.0000   \n",
       "6  SERVIDOR TÉCNICO-ADMINISTRATIVO                32184  2070013.0  0.0155   \n",
       "7                  USUÁRIO EXTERNO                 2509  2072522.0  0.0012   \n",
       "\n",
       "      Fri  \n",
       "0  0.7780  \n",
       "1  0.9240  \n",
       "2  0.9375  \n",
       "3  0.9717  \n",
       "4  0.9833  \n",
       "5  0.9833  \n",
       "6  0.9988  \n",
       "7  1.0000  "
      ]
     },
     "metadata": {},
     "output_type": "display_data"
    },
    {
     "data": {
      "text/html": [
       "<div>\n",
       "<style scoped>\n",
       "    .dataframe tbody tr th:only-of-type {\n",
       "        vertical-align: middle;\n",
       "    }\n",
       "\n",
       "    .dataframe tbody tr th {\n",
       "        vertical-align: top;\n",
       "    }\n",
       "\n",
       "    .dataframe thead th {\n",
       "        text-align: right;\n",
       "    }\n",
       "</style>\n",
       "<table border=\"1\" class=\"dataframe\">\n",
       "  <thead>\n",
       "    <tr style=\"text-align: right;\">\n",
       "      <th></th>\n",
       "      <th>colecao</th>\n",
       "      <th>contagem_emprestimo</th>\n",
       "      <th>fi</th>\n",
       "      <th>fri</th>\n",
       "      <th>Fri</th>\n",
       "    </tr>\n",
       "  </thead>\n",
       "  <tbody>\n",
       "    <tr>\n",
       "      <th>0</th>\n",
       "      <td>Acervo Circulante</td>\n",
       "      <td>2053120</td>\n",
       "      <td>2053120.0</td>\n",
       "      <td>0.9906</td>\n",
       "      <td>0.9906</td>\n",
       "    </tr>\n",
       "    <tr>\n",
       "      <th>1</th>\n",
       "      <td>Coleção Mossoroense</td>\n",
       "      <td>44</td>\n",
       "      <td>2053164.0</td>\n",
       "      <td>0.0000</td>\n",
       "      <td>0.9906</td>\n",
       "    </tr>\n",
       "    <tr>\n",
       "      <th>2</th>\n",
       "      <td>Coleção Zila Mamede</td>\n",
       "      <td>30</td>\n",
       "      <td>2053194.0</td>\n",
       "      <td>0.0000</td>\n",
       "      <td>0.9906</td>\n",
       "    </tr>\n",
       "    <tr>\n",
       "      <th>3</th>\n",
       "      <td>Dissertações</td>\n",
       "      <td>2406</td>\n",
       "      <td>2055600.0</td>\n",
       "      <td>0.0012</td>\n",
       "      <td>0.9918</td>\n",
       "    </tr>\n",
       "    <tr>\n",
       "      <th>4</th>\n",
       "      <td>Eventos</td>\n",
       "      <td>101</td>\n",
       "      <td>2055701.0</td>\n",
       "      <td>0.0000</td>\n",
       "      <td>0.9918</td>\n",
       "    </tr>\n",
       "    <tr>\n",
       "      <th>5</th>\n",
       "      <td>Folhetos</td>\n",
       "      <td>271</td>\n",
       "      <td>2055972.0</td>\n",
       "      <td>0.0001</td>\n",
       "      <td>0.9919</td>\n",
       "    </tr>\n",
       "    <tr>\n",
       "      <th>6</th>\n",
       "      <td>Literatura de Cordel</td>\n",
       "      <td>24</td>\n",
       "      <td>2055996.0</td>\n",
       "      <td>0.0000</td>\n",
       "      <td>0.9919</td>\n",
       "    </tr>\n",
       "    <tr>\n",
       "      <th>7</th>\n",
       "      <td>Monografias</td>\n",
       "      <td>4021</td>\n",
       "      <td>2060017.0</td>\n",
       "      <td>0.0019</td>\n",
       "      <td>0.9938</td>\n",
       "    </tr>\n",
       "    <tr>\n",
       "      <th>8</th>\n",
       "      <td>Multimeios</td>\n",
       "      <td>7954</td>\n",
       "      <td>2067971.0</td>\n",
       "      <td>0.0038</td>\n",
       "      <td>0.9976</td>\n",
       "    </tr>\n",
       "    <tr>\n",
       "      <th>9</th>\n",
       "      <td>Necessidades Educacionais Específicas</td>\n",
       "      <td>130</td>\n",
       "      <td>2068101.0</td>\n",
       "      <td>0.0001</td>\n",
       "      <td>0.9977</td>\n",
       "    </tr>\n",
       "    <tr>\n",
       "      <th>10</th>\n",
       "      <td>Obras Raras</td>\n",
       "      <td>8</td>\n",
       "      <td>2068109.0</td>\n",
       "      <td>0.0000</td>\n",
       "      <td>0.9977</td>\n",
       "    </tr>\n",
       "    <tr>\n",
       "      <th>11</th>\n",
       "      <td>Obras de Referência</td>\n",
       "      <td>1954</td>\n",
       "      <td>2070063.0</td>\n",
       "      <td>0.0009</td>\n",
       "      <td>0.9986</td>\n",
       "    </tr>\n",
       "    <tr>\n",
       "      <th>12</th>\n",
       "      <td>Publicações da UFRN</td>\n",
       "      <td>764</td>\n",
       "      <td>2070827.0</td>\n",
       "      <td>0.0004</td>\n",
       "      <td>0.9990</td>\n",
       "    </tr>\n",
       "    <tr>\n",
       "      <th>13</th>\n",
       "      <td>Publicações de Autores do RN</td>\n",
       "      <td>866</td>\n",
       "      <td>2071693.0</td>\n",
       "      <td>0.0004</td>\n",
       "      <td>0.9994</td>\n",
       "    </tr>\n",
       "    <tr>\n",
       "      <th>14</th>\n",
       "      <td>Teses</td>\n",
       "      <td>714</td>\n",
       "      <td>2072407.0</td>\n",
       "      <td>0.0003</td>\n",
       "      <td>0.9997</td>\n",
       "    </tr>\n",
       "    <tr>\n",
       "      <th>15</th>\n",
       "      <td>Trabalho Acadêmico</td>\n",
       "      <td>115</td>\n",
       "      <td>2072522.0</td>\n",
       "      <td>0.0001</td>\n",
       "      <td>0.9998</td>\n",
       "    </tr>\n",
       "  </tbody>\n",
       "</table>\n",
       "</div>"
      ],
      "text/plain": [
       "                                  colecao  contagem_emprestimo         fi  \\\n",
       "0                       Acervo Circulante              2053120  2053120.0   \n",
       "1                     Coleção Mossoroense                   44  2053164.0   \n",
       "2                     Coleção Zila Mamede                   30  2053194.0   \n",
       "3                            Dissertações                 2406  2055600.0   \n",
       "4                                 Eventos                  101  2055701.0   \n",
       "5                                Folhetos                  271  2055972.0   \n",
       "6                    Literatura de Cordel                   24  2055996.0   \n",
       "7                             Monografias                 4021  2060017.0   \n",
       "8                              Multimeios                 7954  2067971.0   \n",
       "9   Necessidades Educacionais Específicas                  130  2068101.0   \n",
       "10                            Obras Raras                    8  2068109.0   \n",
       "11                    Obras de Referência                 1954  2070063.0   \n",
       "12                    Publicações da UFRN                  764  2070827.0   \n",
       "13           Publicações de Autores do RN                  866  2071693.0   \n",
       "14                                  Teses                  714  2072407.0   \n",
       "15                     Trabalho Acadêmico                  115  2072522.0   \n",
       "\n",
       "       fri     Fri  \n",
       "0   0.9906  0.9906  \n",
       "1   0.0000  0.9906  \n",
       "2   0.0000  0.9906  \n",
       "3   0.0012  0.9918  \n",
       "4   0.0000  0.9918  \n",
       "5   0.0001  0.9919  \n",
       "6   0.0000  0.9919  \n",
       "7   0.0019  0.9938  \n",
       "8   0.0038  0.9976  \n",
       "9   0.0001  0.9977  \n",
       "10  0.0000  0.9977  \n",
       "11  0.0009  0.9986  \n",
       "12  0.0004  0.9990  \n",
       "13  0.0004  0.9994  \n",
       "14  0.0003  0.9997  \n",
       "15  0.0001  0.9998  "
      ]
     },
     "metadata": {},
     "output_type": "display_data"
    },
    {
     "data": {
      "text/html": [
       "<div>\n",
       "<style scoped>\n",
       "    .dataframe tbody tr th:only-of-type {\n",
       "        vertical-align: middle;\n",
       "    }\n",
       "\n",
       "    .dataframe tbody tr th {\n",
       "        vertical-align: top;\n",
       "    }\n",
       "\n",
       "    .dataframe thead th {\n",
       "        text-align: right;\n",
       "    }\n",
       "</style>\n",
       "<table border=\"1\" class=\"dataframe\">\n",
       "  <thead>\n",
       "    <tr style=\"text-align: right;\">\n",
       "      <th></th>\n",
       "      <th>biblioteca</th>\n",
       "      <th>contagem_emprestimo</th>\n",
       "      <th>fi</th>\n",
       "      <th>fri</th>\n",
       "      <th>Fri</th>\n",
       "    </tr>\n",
       "  </thead>\n",
       "  <tbody>\n",
       "    <tr>\n",
       "      <th>0</th>\n",
       "      <td>Biblioteca Central Zila Mamede</td>\n",
       "      <td>1426122</td>\n",
       "      <td>1426122.0</td>\n",
       "      <td>0.6881</td>\n",
       "      <td>0.6881</td>\n",
       "    </tr>\n",
       "    <tr>\n",
       "      <th>1</th>\n",
       "      <td>Biblioteca Setorial Bertha Cruz Enders - ­Esco...</td>\n",
       "      <td>46040</td>\n",
       "      <td>1472162.0</td>\n",
       "      <td>0.0222</td>\n",
       "      <td>0.7103</td>\n",
       "    </tr>\n",
       "    <tr>\n",
       "      <th>2</th>\n",
       "      <td>Biblioteca Setorial Dr. Paulo Bezerra - EMCM/R...</td>\n",
       "      <td>32097</td>\n",
       "      <td>1504259.0</td>\n",
       "      <td>0.0155</td>\n",
       "      <td>0.7258</td>\n",
       "    </tr>\n",
       "    <tr>\n",
       "      <th>3</th>\n",
       "      <td>Biblioteca Setorial Moacyr de Góes - CE</td>\n",
       "      <td>1036</td>\n",
       "      <td>1505295.0</td>\n",
       "      <td>0.0005</td>\n",
       "      <td>0.7263</td>\n",
       "    </tr>\n",
       "    <tr>\n",
       "      <th>4</th>\n",
       "      <td>Biblioteca Setorial Pe. Jaime Diniz - Escola d...</td>\n",
       "      <td>21476</td>\n",
       "      <td>1526771.0</td>\n",
       "      <td>0.0104</td>\n",
       "      <td>0.7367</td>\n",
       "    </tr>\n",
       "    <tr>\n",
       "      <th>5</th>\n",
       "      <td>Biblioteca Setorial Prof. Alberto Moreira Camp...</td>\n",
       "      <td>66447</td>\n",
       "      <td>1593218.0</td>\n",
       "      <td>0.0321</td>\n",
       "      <td>0.7688</td>\n",
       "    </tr>\n",
       "    <tr>\n",
       "      <th>6</th>\n",
       "      <td>Biblioteca Setorial Prof. Dr. Marcelo Bezerra ...</td>\n",
       "      <td>5057</td>\n",
       "      <td>1598275.0</td>\n",
       "      <td>0.0024</td>\n",
       "      <td>0.7712</td>\n",
       "    </tr>\n",
       "    <tr>\n",
       "      <th>7</th>\n",
       "      <td>Biblioteca Setorial Prof. Francisco Gurgel De ...</td>\n",
       "      <td>26923</td>\n",
       "      <td>1625198.0</td>\n",
       "      <td>0.0130</td>\n",
       "      <td>0.7842</td>\n",
       "    </tr>\n",
       "    <tr>\n",
       "      <th>8</th>\n",
       "      <td>Biblioteca Setorial Prof. Horácio Nicolas Soli...</td>\n",
       "      <td>4098</td>\n",
       "      <td>1629296.0</td>\n",
       "      <td>0.0020</td>\n",
       "      <td>0.7862</td>\n",
       "    </tr>\n",
       "    <tr>\n",
       "      <th>9</th>\n",
       "      <td>Biblioteca Setorial Prof. Leopoldo Nelson - ­C...</td>\n",
       "      <td>12900</td>\n",
       "      <td>1642196.0</td>\n",
       "      <td>0.0062</td>\n",
       "      <td>0.7924</td>\n",
       "    </tr>\n",
       "    <tr>\n",
       "      <th>10</th>\n",
       "      <td>Biblioteca Setorial Prof. Rodolfo Helinski - E...</td>\n",
       "      <td>27219</td>\n",
       "      <td>1669415.0</td>\n",
       "      <td>0.0131</td>\n",
       "      <td>0.8055</td>\n",
       "    </tr>\n",
       "    <tr>\n",
       "      <th>11</th>\n",
       "      <td>Biblioteca Setorial Prof. Ronaldo Xavier de Ar...</td>\n",
       "      <td>22749</td>\n",
       "      <td>1692164.0</td>\n",
       "      <td>0.0110</td>\n",
       "      <td>0.8165</td>\n",
       "    </tr>\n",
       "    <tr>\n",
       "      <th>12</th>\n",
       "      <td>Biblioteca Setorial Profª. Maria José Mamede G...</td>\n",
       "      <td>29089</td>\n",
       "      <td>1721253.0</td>\n",
       "      <td>0.0140</td>\n",
       "      <td>0.8305</td>\n",
       "    </tr>\n",
       "    <tr>\n",
       "      <th>13</th>\n",
       "      <td>Biblioteca Setorial Profª. Maria Lúcia da Cost...</td>\n",
       "      <td>61478</td>\n",
       "      <td>1782731.0</td>\n",
       "      <td>0.0297</td>\n",
       "      <td>0.8602</td>\n",
       "    </tr>\n",
       "    <tr>\n",
       "      <th>14</th>\n",
       "      <td>Biblioteca Setorial da Faculdade de Ciências d...</td>\n",
       "      <td>77609</td>\n",
       "      <td>1860340.0</td>\n",
       "      <td>0.0374</td>\n",
       "      <td>0.8976</td>\n",
       "    </tr>\n",
       "    <tr>\n",
       "      <th>15</th>\n",
       "      <td>Biblioteca Setorial do Centro Ciências Sociais...</td>\n",
       "      <td>10533</td>\n",
       "      <td>1870873.0</td>\n",
       "      <td>0.0051</td>\n",
       "      <td>0.9027</td>\n",
       "    </tr>\n",
       "    <tr>\n",
       "      <th>16</th>\n",
       "      <td>Biblioteca Setorial do Centro Ciências da Saúd...</td>\n",
       "      <td>118614</td>\n",
       "      <td>1989487.0</td>\n",
       "      <td>0.0572</td>\n",
       "      <td>0.9599</td>\n",
       "    </tr>\n",
       "    <tr>\n",
       "      <th>17</th>\n",
       "      <td>Biblioteca Setorial do Centro de Ciências Huma...</td>\n",
       "      <td>40744</td>\n",
       "      <td>2030231.0</td>\n",
       "      <td>0.0197</td>\n",
       "      <td>0.9796</td>\n",
       "    </tr>\n",
       "    <tr>\n",
       "      <th>18</th>\n",
       "      <td>Biblioteca Setorial do Departamento de Artes -...</td>\n",
       "      <td>17099</td>\n",
       "      <td>2047330.0</td>\n",
       "      <td>0.0083</td>\n",
       "      <td>0.9879</td>\n",
       "    </tr>\n",
       "    <tr>\n",
       "      <th>19</th>\n",
       "      <td>Biblioteca Setorial do Núcleo de Educação da I...</td>\n",
       "      <td>23656</td>\n",
       "      <td>2070986.0</td>\n",
       "      <td>0.0114</td>\n",
       "      <td>0.9993</td>\n",
       "    </tr>\n",
       "    <tr>\n",
       "      <th>20</th>\n",
       "      <td>Biblioteca Setorial do Núcleo de Ensino Superi...</td>\n",
       "      <td>617</td>\n",
       "      <td>2071603.0</td>\n",
       "      <td>0.0003</td>\n",
       "      <td>0.9996</td>\n",
       "    </tr>\n",
       "    <tr>\n",
       "      <th>21</th>\n",
       "      <td>Biblioteca Setorial Árvore do Conhecimento - I...</td>\n",
       "      <td>919</td>\n",
       "      <td>2072522.0</td>\n",
       "      <td>0.0004</td>\n",
       "      <td>1.0000</td>\n",
       "    </tr>\n",
       "  </tbody>\n",
       "</table>\n",
       "</div>"
      ],
      "text/plain": [
       "                                           biblioteca  contagem_emprestimo  \\\n",
       "0                      Biblioteca Central Zila Mamede              1426122   \n",
       "1   Biblioteca Setorial Bertha Cruz Enders - ­Esco...                46040   \n",
       "2   Biblioteca Setorial Dr. Paulo Bezerra - EMCM/R...                32097   \n",
       "3             Biblioteca Setorial Moacyr de Góes - CE                 1036   \n",
       "4   Biblioteca Setorial Pe. Jaime Diniz - Escola d...                21476   \n",
       "5   Biblioteca Setorial Prof. Alberto Moreira Camp...                66447   \n",
       "6   Biblioteca Setorial Prof. Dr. Marcelo Bezerra ...                 5057   \n",
       "7   Biblioteca Setorial Prof. Francisco Gurgel De ...                26923   \n",
       "8   Biblioteca Setorial Prof. Horácio Nicolas Soli...                 4098   \n",
       "9   Biblioteca Setorial Prof. Leopoldo Nelson - ­C...                12900   \n",
       "10  Biblioteca Setorial Prof. Rodolfo Helinski - E...                27219   \n",
       "11  Biblioteca Setorial Prof. Ronaldo Xavier de Ar...                22749   \n",
       "12  Biblioteca Setorial Profª. Maria José Mamede G...                29089   \n",
       "13  Biblioteca Setorial Profª. Maria Lúcia da Cost...                61478   \n",
       "14  Biblioteca Setorial da Faculdade de Ciências d...                77609   \n",
       "15  Biblioteca Setorial do Centro Ciências Sociais...                10533   \n",
       "16  Biblioteca Setorial do Centro Ciências da Saúd...               118614   \n",
       "17  Biblioteca Setorial do Centro de Ciências Huma...                40744   \n",
       "18  Biblioteca Setorial do Departamento de Artes -...                17099   \n",
       "19  Biblioteca Setorial do Núcleo de Educação da I...                23656   \n",
       "20  Biblioteca Setorial do Núcleo de Ensino Superi...                  617   \n",
       "21  Biblioteca Setorial Árvore do Conhecimento - I...                  919   \n",
       "\n",
       "           fi     fri     Fri  \n",
       "0   1426122.0  0.6881  0.6881  \n",
       "1   1472162.0  0.0222  0.7103  \n",
       "2   1504259.0  0.0155  0.7258  \n",
       "3   1505295.0  0.0005  0.7263  \n",
       "4   1526771.0  0.0104  0.7367  \n",
       "5   1593218.0  0.0321  0.7688  \n",
       "6   1598275.0  0.0024  0.7712  \n",
       "7   1625198.0  0.0130  0.7842  \n",
       "8   1629296.0  0.0020  0.7862  \n",
       "9   1642196.0  0.0062  0.7924  \n",
       "10  1669415.0  0.0131  0.8055  \n",
       "11  1692164.0  0.0110  0.8165  \n",
       "12  1721253.0  0.0140  0.8305  \n",
       "13  1782731.0  0.0297  0.8602  \n",
       "14  1860340.0  0.0374  0.8976  \n",
       "15  1870873.0  0.0051  0.9027  \n",
       "16  1989487.0  0.0572  0.9599  \n",
       "17  2030231.0  0.0197  0.9796  \n",
       "18  2047330.0  0.0083  0.9879  \n",
       "19  2070986.0  0.0114  0.9993  \n",
       "20  2071603.0  0.0003  0.9996  \n",
       "21  2072522.0  0.0004  1.0000  "
      ]
     },
     "metadata": {},
     "output_type": "display_data"
    },
    {
     "data": {
      "text/html": [
       "<div>\n",
       "<style scoped>\n",
       "    .dataframe tbody tr th:only-of-type {\n",
       "        vertical-align: middle;\n",
       "    }\n",
       "\n",
       "    .dataframe tbody tr th {\n",
       "        vertical-align: top;\n",
       "    }\n",
       "\n",
       "    .dataframe thead th {\n",
       "        text-align: right;\n",
       "    }\n",
       "</style>\n",
       "<table border=\"1\" class=\"dataframe\">\n",
       "  <thead>\n",
       "    <tr style=\"text-align: right;\">\n",
       "      <th></th>\n",
       "      <th>cdu_valor</th>\n",
       "      <th>contagem_emprestimo</th>\n",
       "      <th>fi</th>\n",
       "      <th>fri</th>\n",
       "      <th>Fri</th>\n",
       "    </tr>\n",
       "  </thead>\n",
       "  <tbody>\n",
       "    <tr>\n",
       "      <th>0</th>\n",
       "      <td>Belas artes</td>\n",
       "      <td>7911</td>\n",
       "      <td>7911.0</td>\n",
       "      <td>0.0038</td>\n",
       "      <td>0.0038</td>\n",
       "    </tr>\n",
       "    <tr>\n",
       "      <th>1</th>\n",
       "      <td>Ciências aplicadas</td>\n",
       "      <td>1425473</td>\n",
       "      <td>1433384.0</td>\n",
       "      <td>0.6878</td>\n",
       "      <td>0.6916</td>\n",
       "    </tr>\n",
       "    <tr>\n",
       "      <th>2</th>\n",
       "      <td>Ciências sociais</td>\n",
       "      <td>369536</td>\n",
       "      <td>1802920.0</td>\n",
       "      <td>0.1783</td>\n",
       "      <td>0.8699</td>\n",
       "    </tr>\n",
       "    <tr>\n",
       "      <th>3</th>\n",
       "      <td>Filosofia e psicologia</td>\n",
       "      <td>60563</td>\n",
       "      <td>1863483.0</td>\n",
       "      <td>0.0292</td>\n",
       "      <td>0.8991</td>\n",
       "    </tr>\n",
       "    <tr>\n",
       "      <th>4</th>\n",
       "      <td>Generalidades. Ciência e conhecimento</td>\n",
       "      <td>62521</td>\n",
       "      <td>1926004.0</td>\n",
       "      <td>0.0302</td>\n",
       "      <td>0.9293</td>\n",
       "    </tr>\n",
       "    <tr>\n",
       "      <th>5</th>\n",
       "      <td>Geografia. Biografia. História</td>\n",
       "      <td>7989</td>\n",
       "      <td>1933993.0</td>\n",
       "      <td>0.0039</td>\n",
       "      <td>0.9332</td>\n",
       "    </tr>\n",
       "    <tr>\n",
       "      <th>6</th>\n",
       "      <td>Linguagem. Língua. Linguística</td>\n",
       "      <td>7490</td>\n",
       "      <td>1941483.0</td>\n",
       "      <td>0.0036</td>\n",
       "      <td>0.9368</td>\n",
       "    </tr>\n",
       "    <tr>\n",
       "      <th>7</th>\n",
       "      <td>Matemática e ciências naturais</td>\n",
       "      <td>68744</td>\n",
       "      <td>2010227.0</td>\n",
       "      <td>0.0332</td>\n",
       "      <td>0.9700</td>\n",
       "    </tr>\n",
       "    <tr>\n",
       "      <th>8</th>\n",
       "      <td>Religião</td>\n",
       "      <td>62295</td>\n",
       "      <td>2072522.0</td>\n",
       "      <td>0.0301</td>\n",
       "      <td>1.0001</td>\n",
       "    </tr>\n",
       "  </tbody>\n",
       "</table>\n",
       "</div>"
      ],
      "text/plain": [
       "                               cdu_valor  contagem_emprestimo         fi  \\\n",
       "0                            Belas artes                 7911     7911.0   \n",
       "1                     Ciências aplicadas              1425473  1433384.0   \n",
       "2                       Ciências sociais               369536  1802920.0   \n",
       "3                 Filosofia e psicologia                60563  1863483.0   \n",
       "4  Generalidades. Ciência e conhecimento                62521  1926004.0   \n",
       "5         Geografia. Biografia. História                 7989  1933993.0   \n",
       "6         Linguagem. Língua. Linguística                 7490  1941483.0   \n",
       "7         Matemática e ciências naturais                68744  2010227.0   \n",
       "8                               Religião                62295  2072522.0   \n",
       "\n",
       "      fri     Fri  \n",
       "0  0.0038  0.0038  \n",
       "1  0.6878  0.6916  \n",
       "2  0.1783  0.8699  \n",
       "3  0.0292  0.8991  \n",
       "4  0.0302  0.9293  \n",
       "5  0.0039  0.9332  \n",
       "6  0.0036  0.9368  \n",
       "7  0.0332  0.9700  \n",
       "8  0.0301  1.0001  "
      ]
     },
     "metadata": {},
     "output_type": "display_data"
    }
   ],
   "source": [
    "colunas_interesse_tabela_frequencia = [\"tipo_vinculo_usuario\", \"colecao\", \"biblioteca\", \"cdu_valor\"]\n",
    "\n",
    "cria_tabela_frequencia(colunas_interesse_tabela_frequencia)\n",
    "\n",
    "for i in range(len(lista_tabelas_frequencia)):\n",
    "    display(lista_tabelas_frequencia[i])"
   ]
  },
  {
   "cell_type": "markdown",
   "metadata": {},
   "source": [
    "O tipo de aluno que mais empresta livro são os alunos de graduação, concentrando mais de 70% do total. Para as coleções, o acervo circulante representa 99% do acervo. A biblioteca com maior número de emprestimos é a Biblioteca Central Zila Mamede e o campo de ciências aplicadas representando 68% do total dos livros."
   ]
  },
  {
   "cell_type": "markdown",
   "metadata": {},
   "source": [
    "5º dia:\n",
    "-  Fazer dois recortes em seus dados para entender como eles se distribuíram ao decorrer desses anos, para isso, você vai avaliar dentre os alunos de graduação e pós graduação a distribuição de empréstimos mensais por ano realizados entre 2010 e 2020 da coleção que tiver a maior frequência de empréstimos."
   ]
  },
  {
   "cell_type": "markdown",
   "metadata": {},
   "source": [
    "\n",
    "O que está ocorrendo ao decorrer do tempo? Houve algum ano ou anos em específico que te chamaram atenção para alguma diferença? Quais as maiores diferenças entre os empréstimos para os alunos de graduação e pós graduação?"
   ]
  },
  {
   "cell_type": "code",
   "execution_count": 109,
   "metadata": {},
   "outputs": [],
   "source": [
    "emprestimos_completo_graduacao = emprestimos_completo.query(\"tipo_vinculo_usuario == 'ALUNO DE GRADUAÇÃO'\")\n",
    "emprestimos_completo_pos_graduacao = emprestimos_completo.query(\"tipo_vinculo_usuario == 'ALUNO DE PÓS-GRADUAÇÃO'\")"
   ]
  },
  {
   "cell_type": "code",
   "execution_count": 110,
   "metadata": {},
   "outputs": [],
   "source": [
    "#apenas acervo circulante por ser o que tem mais emprestimos\n",
    "emprestimos_completo_graduacao_acerco_circulante = emprestimos_completo_graduacao.query(\"colecao == 'Acervo Circulante'\")\n",
    "emprestimos_completo_pos_graduacao_acervo_circulante = emprestimos_completo_pos_graduacao.query(\"colecao == 'Acervo Circulante'\")"
   ]
  },
  {
   "cell_type": "code",
   "execution_count": 111,
   "metadata": {},
   "outputs": [],
   "source": [
    "emprestimo_graduacao_circulante = emprestimos_completo_graduacao_acerco_circulante[[\"id_emprestimo\", \"ano\", \"mes\"]]\n",
    "emprestimo_graduacao_circulante = emprestimo_graduacao_circulante.groupby([\"ano\", \"mes\"])[\"id_emprestimo\"].count().reset_index()\n",
    "emprestimo_graduacao_circulante = emprestimo_graduacao_circulante.rename(columns={\"id_emprestimo\": \"contagem_emprestimo\"})"
   ]
  },
  {
   "cell_type": "code",
   "execution_count": 112,
   "metadata": {},
   "outputs": [],
   "source": [
    "emprestimo_pos_circulante = emprestimos_completo_pos_graduacao_acervo_circulante[[\"id_emprestimo\", \"ano\", \"mes\"]]\n",
    "emprestimo_pos_circulante = emprestimo_pos_circulante.groupby([\"ano\", \"mes\"])[\"id_emprestimo\"].count().reset_index()\n",
    "emprestimo_pos_circulante = emprestimo_pos_circulante.rename(columns={\"id_emprestimo\": \"contagem_emprestimo\"})"
   ]
  },
  {
   "cell_type": "code",
   "execution_count": 113,
   "metadata": {},
   "outputs": [
    {
     "data": {
      "application/vnd.plotly.v1+json": {
       "config": {
        "plotlyServerURL": "https://plot.ly"
       },
       "data": [
        {
         "alignmentgroup": "True",
         "hovertemplate": "ano=%{x}<br>contagem_emprestimo=%{y}<extra></extra>",
         "legendgroup": "",
         "marker": {
          "color": "#636efa"
         },
         "name": "",
         "notched": false,
         "offsetgroup": "",
         "orientation": "v",
         "showlegend": false,
         "type": "box",
         "x": [
          2010,
          2010,
          2010,
          2010,
          2010,
          2010,
          2010,
          2010,
          2010,
          2010,
          2010,
          2010,
          2011,
          2011,
          2011,
          2011,
          2011,
          2011,
          2011,
          2011,
          2011,
          2011,
          2011,
          2011,
          2012,
          2012,
          2012,
          2012,
          2012,
          2012,
          2012,
          2012,
          2012,
          2012,
          2012,
          2012,
          2013,
          2013,
          2013,
          2013,
          2013,
          2013,
          2013,
          2013,
          2013,
          2013,
          2013,
          2013,
          2014,
          2014,
          2014,
          2014,
          2014,
          2014,
          2014,
          2014,
          2014,
          2014,
          2014,
          2014,
          2015,
          2015,
          2015,
          2015,
          2015,
          2015,
          2015,
          2015,
          2015,
          2015,
          2015,
          2015,
          2016,
          2016,
          2016,
          2016,
          2016,
          2016,
          2016,
          2016,
          2016,
          2016,
          2016,
          2016,
          2017,
          2017,
          2017,
          2017,
          2017,
          2017,
          2017,
          2017,
          2017,
          2017,
          2017,
          2017,
          2018,
          2018,
          2018,
          2018,
          2018,
          2018,
          2018,
          2018,
          2018,
          2018,
          2018,
          2018,
          2019,
          2019,
          2019,
          2019,
          2019,
          2019,
          2019,
          2019,
          2019,
          2019,
          2019,
          2019,
          2020,
          2020,
          2020,
          2020
         ],
         "x0": " ",
         "xaxis": "x",
         "y": [
          1105,
          1474,
          2919,
          2716,
          2514,
          1920,
          1522,
          2222,
          2297,
          2026,
          1782,
          1275,
          465,
          1563,
          2573,
          2431,
          2591,
          2095,
          1945,
          2818,
          2595,
          2340,
          2030,
          1903,
          1714,
          2217,
          3575,
          2956,
          2993,
          2025,
          1566,
          2351,
          2341,
          2553,
          2370,
          1691,
          1753,
          2445,
          3274,
          3186,
          2921,
          2104,
          2767,
          3110,
          3181,
          2791,
          2528,
          2108,
          2316,
          3583,
          3204,
          3010,
          2690,
          1605,
          2571,
          3101,
          3180,
          2904,
          2325,
          1970,
          1785,
          3086,
          3927,
          3315,
          3120,
          2774,
          2661,
          2977,
          2506,
          2711,
          2423,
          1701,
          1646,
          2328,
          3711,
          2720,
          3115,
          3049,
          2378,
          3662,
          3483,
          2753,
          2059,
          1692,
          1649,
          2332,
          3722,
          2724,
          3125,
          3059,
          2339,
          3837,
          2849,
          2705,
          2376,
          1582,
          1545,
          2229,
          3518,
          3290,
          2914,
          2376,
          1868,
          3068,
          2451,
          2389,
          2049,
          1382,
          1601,
          2379,
          2922,
          2836,
          2593,
          2049,
          2037,
          2848,
          2307,
          2082,
          1613,
          1069,
          1143,
          1189,
          1471,
          2
         ],
         "y0": " ",
         "yaxis": "y"
        }
       ],
       "layout": {
        "boxmode": "group",
        "legend": {
         "tracegroupgap": 0
        },
        "template": {
         "data": {
          "bar": [
           {
            "error_x": {
             "color": "#2a3f5f"
            },
            "error_y": {
             "color": "#2a3f5f"
            },
            "marker": {
             "line": {
              "color": "#E5ECF6",
              "width": 0.5
             },
             "pattern": {
              "fillmode": "overlay",
              "size": 10,
              "solidity": 0.2
             }
            },
            "type": "bar"
           }
          ],
          "barpolar": [
           {
            "marker": {
             "line": {
              "color": "#E5ECF6",
              "width": 0.5
             },
             "pattern": {
              "fillmode": "overlay",
              "size": 10,
              "solidity": 0.2
             }
            },
            "type": "barpolar"
           }
          ],
          "carpet": [
           {
            "aaxis": {
             "endlinecolor": "#2a3f5f",
             "gridcolor": "white",
             "linecolor": "white",
             "minorgridcolor": "white",
             "startlinecolor": "#2a3f5f"
            },
            "baxis": {
             "endlinecolor": "#2a3f5f",
             "gridcolor": "white",
             "linecolor": "white",
             "minorgridcolor": "white",
             "startlinecolor": "#2a3f5f"
            },
            "type": "carpet"
           }
          ],
          "choropleth": [
           {
            "colorbar": {
             "outlinewidth": 0,
             "ticks": ""
            },
            "type": "choropleth"
           }
          ],
          "contour": [
           {
            "colorbar": {
             "outlinewidth": 0,
             "ticks": ""
            },
            "colorscale": [
             [
              0,
              "#0d0887"
             ],
             [
              0.1111111111111111,
              "#46039f"
             ],
             [
              0.2222222222222222,
              "#7201a8"
             ],
             [
              0.3333333333333333,
              "#9c179e"
             ],
             [
              0.4444444444444444,
              "#bd3786"
             ],
             [
              0.5555555555555556,
              "#d8576b"
             ],
             [
              0.6666666666666666,
              "#ed7953"
             ],
             [
              0.7777777777777778,
              "#fb9f3a"
             ],
             [
              0.8888888888888888,
              "#fdca26"
             ],
             [
              1,
              "#f0f921"
             ]
            ],
            "type": "contour"
           }
          ],
          "contourcarpet": [
           {
            "colorbar": {
             "outlinewidth": 0,
             "ticks": ""
            },
            "type": "contourcarpet"
           }
          ],
          "heatmap": [
           {
            "colorbar": {
             "outlinewidth": 0,
             "ticks": ""
            },
            "colorscale": [
             [
              0,
              "#0d0887"
             ],
             [
              0.1111111111111111,
              "#46039f"
             ],
             [
              0.2222222222222222,
              "#7201a8"
             ],
             [
              0.3333333333333333,
              "#9c179e"
             ],
             [
              0.4444444444444444,
              "#bd3786"
             ],
             [
              0.5555555555555556,
              "#d8576b"
             ],
             [
              0.6666666666666666,
              "#ed7953"
             ],
             [
              0.7777777777777778,
              "#fb9f3a"
             ],
             [
              0.8888888888888888,
              "#fdca26"
             ],
             [
              1,
              "#f0f921"
             ]
            ],
            "type": "heatmap"
           }
          ],
          "heatmapgl": [
           {
            "colorbar": {
             "outlinewidth": 0,
             "ticks": ""
            },
            "colorscale": [
             [
              0,
              "#0d0887"
             ],
             [
              0.1111111111111111,
              "#46039f"
             ],
             [
              0.2222222222222222,
              "#7201a8"
             ],
             [
              0.3333333333333333,
              "#9c179e"
             ],
             [
              0.4444444444444444,
              "#bd3786"
             ],
             [
              0.5555555555555556,
              "#d8576b"
             ],
             [
              0.6666666666666666,
              "#ed7953"
             ],
             [
              0.7777777777777778,
              "#fb9f3a"
             ],
             [
              0.8888888888888888,
              "#fdca26"
             ],
             [
              1,
              "#f0f921"
             ]
            ],
            "type": "heatmapgl"
           }
          ],
          "histogram": [
           {
            "marker": {
             "pattern": {
              "fillmode": "overlay",
              "size": 10,
              "solidity": 0.2
             }
            },
            "type": "histogram"
           }
          ],
          "histogram2d": [
           {
            "colorbar": {
             "outlinewidth": 0,
             "ticks": ""
            },
            "colorscale": [
             [
              0,
              "#0d0887"
             ],
             [
              0.1111111111111111,
              "#46039f"
             ],
             [
              0.2222222222222222,
              "#7201a8"
             ],
             [
              0.3333333333333333,
              "#9c179e"
             ],
             [
              0.4444444444444444,
              "#bd3786"
             ],
             [
              0.5555555555555556,
              "#d8576b"
             ],
             [
              0.6666666666666666,
              "#ed7953"
             ],
             [
              0.7777777777777778,
              "#fb9f3a"
             ],
             [
              0.8888888888888888,
              "#fdca26"
             ],
             [
              1,
              "#f0f921"
             ]
            ],
            "type": "histogram2d"
           }
          ],
          "histogram2dcontour": [
           {
            "colorbar": {
             "outlinewidth": 0,
             "ticks": ""
            },
            "colorscale": [
             [
              0,
              "#0d0887"
             ],
             [
              0.1111111111111111,
              "#46039f"
             ],
             [
              0.2222222222222222,
              "#7201a8"
             ],
             [
              0.3333333333333333,
              "#9c179e"
             ],
             [
              0.4444444444444444,
              "#bd3786"
             ],
             [
              0.5555555555555556,
              "#d8576b"
             ],
             [
              0.6666666666666666,
              "#ed7953"
             ],
             [
              0.7777777777777778,
              "#fb9f3a"
             ],
             [
              0.8888888888888888,
              "#fdca26"
             ],
             [
              1,
              "#f0f921"
             ]
            ],
            "type": "histogram2dcontour"
           }
          ],
          "mesh3d": [
           {
            "colorbar": {
             "outlinewidth": 0,
             "ticks": ""
            },
            "type": "mesh3d"
           }
          ],
          "parcoords": [
           {
            "line": {
             "colorbar": {
              "outlinewidth": 0,
              "ticks": ""
             }
            },
            "type": "parcoords"
           }
          ],
          "pie": [
           {
            "automargin": true,
            "type": "pie"
           }
          ],
          "scatter": [
           {
            "fillpattern": {
             "fillmode": "overlay",
             "size": 10,
             "solidity": 0.2
            },
            "type": "scatter"
           }
          ],
          "scatter3d": [
           {
            "line": {
             "colorbar": {
              "outlinewidth": 0,
              "ticks": ""
             }
            },
            "marker": {
             "colorbar": {
              "outlinewidth": 0,
              "ticks": ""
             }
            },
            "type": "scatter3d"
           }
          ],
          "scattercarpet": [
           {
            "marker": {
             "colorbar": {
              "outlinewidth": 0,
              "ticks": ""
             }
            },
            "type": "scattercarpet"
           }
          ],
          "scattergeo": [
           {
            "marker": {
             "colorbar": {
              "outlinewidth": 0,
              "ticks": ""
             }
            },
            "type": "scattergeo"
           }
          ],
          "scattergl": [
           {
            "marker": {
             "colorbar": {
              "outlinewidth": 0,
              "ticks": ""
             }
            },
            "type": "scattergl"
           }
          ],
          "scattermapbox": [
           {
            "marker": {
             "colorbar": {
              "outlinewidth": 0,
              "ticks": ""
             }
            },
            "type": "scattermapbox"
           }
          ],
          "scatterpolar": [
           {
            "marker": {
             "colorbar": {
              "outlinewidth": 0,
              "ticks": ""
             }
            },
            "type": "scatterpolar"
           }
          ],
          "scatterpolargl": [
           {
            "marker": {
             "colorbar": {
              "outlinewidth": 0,
              "ticks": ""
             }
            },
            "type": "scatterpolargl"
           }
          ],
          "scatterternary": [
           {
            "marker": {
             "colorbar": {
              "outlinewidth": 0,
              "ticks": ""
             }
            },
            "type": "scatterternary"
           }
          ],
          "surface": [
           {
            "colorbar": {
             "outlinewidth": 0,
             "ticks": ""
            },
            "colorscale": [
             [
              0,
              "#0d0887"
             ],
             [
              0.1111111111111111,
              "#46039f"
             ],
             [
              0.2222222222222222,
              "#7201a8"
             ],
             [
              0.3333333333333333,
              "#9c179e"
             ],
             [
              0.4444444444444444,
              "#bd3786"
             ],
             [
              0.5555555555555556,
              "#d8576b"
             ],
             [
              0.6666666666666666,
              "#ed7953"
             ],
             [
              0.7777777777777778,
              "#fb9f3a"
             ],
             [
              0.8888888888888888,
              "#fdca26"
             ],
             [
              1,
              "#f0f921"
             ]
            ],
            "type": "surface"
           }
          ],
          "table": [
           {
            "cells": {
             "fill": {
              "color": "#EBF0F8"
             },
             "line": {
              "color": "white"
             }
            },
            "header": {
             "fill": {
              "color": "#C8D4E3"
             },
             "line": {
              "color": "white"
             }
            },
            "type": "table"
           }
          ]
         },
         "layout": {
          "annotationdefaults": {
           "arrowcolor": "#2a3f5f",
           "arrowhead": 0,
           "arrowwidth": 1
          },
          "autotypenumbers": "strict",
          "coloraxis": {
           "colorbar": {
            "outlinewidth": 0,
            "ticks": ""
           }
          },
          "colorscale": {
           "diverging": [
            [
             0,
             "#8e0152"
            ],
            [
             0.1,
             "#c51b7d"
            ],
            [
             0.2,
             "#de77ae"
            ],
            [
             0.3,
             "#f1b6da"
            ],
            [
             0.4,
             "#fde0ef"
            ],
            [
             0.5,
             "#f7f7f7"
            ],
            [
             0.6,
             "#e6f5d0"
            ],
            [
             0.7,
             "#b8e186"
            ],
            [
             0.8,
             "#7fbc41"
            ],
            [
             0.9,
             "#4d9221"
            ],
            [
             1,
             "#276419"
            ]
           ],
           "sequential": [
            [
             0,
             "#0d0887"
            ],
            [
             0.1111111111111111,
             "#46039f"
            ],
            [
             0.2222222222222222,
             "#7201a8"
            ],
            [
             0.3333333333333333,
             "#9c179e"
            ],
            [
             0.4444444444444444,
             "#bd3786"
            ],
            [
             0.5555555555555556,
             "#d8576b"
            ],
            [
             0.6666666666666666,
             "#ed7953"
            ],
            [
             0.7777777777777778,
             "#fb9f3a"
            ],
            [
             0.8888888888888888,
             "#fdca26"
            ],
            [
             1,
             "#f0f921"
            ]
           ],
           "sequentialminus": [
            [
             0,
             "#0d0887"
            ],
            [
             0.1111111111111111,
             "#46039f"
            ],
            [
             0.2222222222222222,
             "#7201a8"
            ],
            [
             0.3333333333333333,
             "#9c179e"
            ],
            [
             0.4444444444444444,
             "#bd3786"
            ],
            [
             0.5555555555555556,
             "#d8576b"
            ],
            [
             0.6666666666666666,
             "#ed7953"
            ],
            [
             0.7777777777777778,
             "#fb9f3a"
            ],
            [
             0.8888888888888888,
             "#fdca26"
            ],
            [
             1,
             "#f0f921"
            ]
           ]
          },
          "colorway": [
           "#636efa",
           "#EF553B",
           "#00cc96",
           "#ab63fa",
           "#FFA15A",
           "#19d3f3",
           "#FF6692",
           "#B6E880",
           "#FF97FF",
           "#FECB52"
          ],
          "font": {
           "color": "#2a3f5f"
          },
          "geo": {
           "bgcolor": "white",
           "lakecolor": "white",
           "landcolor": "#E5ECF6",
           "showlakes": true,
           "showland": true,
           "subunitcolor": "white"
          },
          "hoverlabel": {
           "align": "left"
          },
          "hovermode": "closest",
          "mapbox": {
           "style": "light"
          },
          "paper_bgcolor": "white",
          "plot_bgcolor": "#E5ECF6",
          "polar": {
           "angularaxis": {
            "gridcolor": "white",
            "linecolor": "white",
            "ticks": ""
           },
           "bgcolor": "#E5ECF6",
           "radialaxis": {
            "gridcolor": "white",
            "linecolor": "white",
            "ticks": ""
           }
          },
          "scene": {
           "xaxis": {
            "backgroundcolor": "#E5ECF6",
            "gridcolor": "white",
            "gridwidth": 2,
            "linecolor": "white",
            "showbackground": true,
            "ticks": "",
            "zerolinecolor": "white"
           },
           "yaxis": {
            "backgroundcolor": "#E5ECF6",
            "gridcolor": "white",
            "gridwidth": 2,
            "linecolor": "white",
            "showbackground": true,
            "ticks": "",
            "zerolinecolor": "white"
           },
           "zaxis": {
            "backgroundcolor": "#E5ECF6",
            "gridcolor": "white",
            "gridwidth": 2,
            "linecolor": "white",
            "showbackground": true,
            "ticks": "",
            "zerolinecolor": "white"
           }
          },
          "shapedefaults": {
           "line": {
            "color": "#2a3f5f"
           }
          },
          "ternary": {
           "aaxis": {
            "gridcolor": "white",
            "linecolor": "white",
            "ticks": ""
           },
           "baxis": {
            "gridcolor": "white",
            "linecolor": "white",
            "ticks": ""
           },
           "bgcolor": "#E5ECF6",
           "caxis": {
            "gridcolor": "white",
            "linecolor": "white",
            "ticks": ""
           }
          },
          "title": {
           "x": 0.05
          },
          "xaxis": {
           "automargin": true,
           "gridcolor": "white",
           "linecolor": "white",
           "ticks": "",
           "title": {
            "standoff": 15
           },
           "zerolinecolor": "white",
           "zerolinewidth": 2
          },
          "yaxis": {
           "automargin": true,
           "gridcolor": "white",
           "linecolor": "white",
           "ticks": "",
           "title": {
            "standoff": 15
           },
           "zerolinecolor": "white",
           "zerolinewidth": 2
          }
         }
        },
        "title": {
         "text": "Distribuição dos emprestimos mensais realizados por alunos de pós"
        },
        "xaxis": {
         "anchor": "y",
         "domain": [
          0,
          1
         ],
         "title": {
          "text": "ano"
         }
        },
        "yaxis": {
         "anchor": "x",
         "domain": [
          0,
          1
         ],
         "title": {
          "text": "contagem_emprestimo"
         }
        }
       }
      }
     },
     "metadata": {},
     "output_type": "display_data"
    }
   ],
   "source": [
    "fig_box_plot_pos = px.box(emprestimo_pos_circulante,\n",
    "                          x=\"ano\",\n",
    "                          y=\"contagem_emprestimo\",\n",
    "                          title=\"Distribuição dos emprestimos mensais realizados por alunos de pós\"\n",
    "                        )\n",
    "fig_box_plot_pos.show()"
   ]
  },
  {
   "cell_type": "code",
   "execution_count": 114,
   "metadata": {},
   "outputs": [
    {
     "data": {
      "application/vnd.plotly.v1+json": {
       "config": {
        "plotlyServerURL": "https://plot.ly"
       },
       "data": [
        {
         "alignmentgroup": "True",
         "hovertemplate": "ano=%{x}<br>contagem_emprestimo=%{y}<extra></extra>",
         "legendgroup": "",
         "marker": {
          "color": "#636efa"
         },
         "name": "",
         "notched": false,
         "offsetgroup": "",
         "orientation": "v",
         "showlegend": false,
         "type": "box",
         "x": [
          2010,
          2010,
          2010,
          2010,
          2010,
          2010,
          2010,
          2010,
          2010,
          2010,
          2010,
          2010,
          2011,
          2011,
          2011,
          2011,
          2011,
          2011,
          2011,
          2011,
          2011,
          2011,
          2011,
          2011,
          2012,
          2012,
          2012,
          2012,
          2012,
          2012,
          2012,
          2012,
          2012,
          2012,
          2012,
          2012,
          2013,
          2013,
          2013,
          2013,
          2013,
          2013,
          2013,
          2013,
          2013,
          2013,
          2013,
          2013,
          2014,
          2014,
          2014,
          2014,
          2014,
          2014,
          2014,
          2014,
          2014,
          2014,
          2014,
          2014,
          2015,
          2015,
          2015,
          2015,
          2015,
          2015,
          2015,
          2015,
          2015,
          2015,
          2015,
          2015,
          2016,
          2016,
          2016,
          2016,
          2016,
          2016,
          2016,
          2016,
          2016,
          2016,
          2016,
          2016,
          2017,
          2017,
          2017,
          2017,
          2017,
          2017,
          2017,
          2017,
          2017,
          2017,
          2017,
          2017,
          2018,
          2018,
          2018,
          2018,
          2018,
          2018,
          2018,
          2018,
          2018,
          2018,
          2018,
          2018,
          2019,
          2019,
          2019,
          2019,
          2019,
          2019,
          2019,
          2019,
          2019,
          2019,
          2019,
          2019,
          2020,
          2020,
          2020
         ],
         "x0": " ",
         "xaxis": "x",
         "y": [
          2996,
          7769,
          15275,
          12430,
          12164,
          9761,
          4776,
          14672,
          14763,
          12283,
          11791,
          6180,
          809,
          10454,
          16128,
          14718,
          16386,
          13528,
          6003,
          20393,
          19309,
          15648,
          15363,
          9164,
          4987,
          17310,
          22797,
          19202,
          17951,
          11194,
          3972,
          18898,
          17663,
          18135,
          16688,
          8540,
          5353,
          21356,
          20037,
          21853,
          18310,
          10571,
          11816,
          19257,
          19189,
          16893,
          15162,
          6018,
          12476,
          20460,
          15746,
          14613,
          13445,
          4635,
          14923,
          19452,
          19674,
          17089,
          13690,
          3971,
          4032,
          21435,
          22483,
          18469,
          17078,
          8798,
          10499,
          15508,
          12120,
          13886,
          13855,
          4652,
          2670,
          15628,
          21692,
          15850,
          17629,
          12671,
          10441,
          20746,
          18144,
          13990,
          10016,
          4326,
          2671,
          15641,
          21735,
          15861,
          17633,
          12677,
          10951,
          21031,
          16410,
          14641,
          12721,
          3624,
          2868,
          13100,
          18120,
          16402,
          14689,
          11512,
          6436,
          19452,
          13836,
          13687,
          11599,
          3919,
          2276,
          16865,
          15092,
          13523,
          12469,
          7764,
          10081,
          14914,
          12688,
          11169,
          8807,
          1980,
          1781,
          8138,
          8685
         ],
         "y0": " ",
         "yaxis": "y"
        }
       ],
       "layout": {
        "boxmode": "group",
        "legend": {
         "tracegroupgap": 0
        },
        "template": {
         "data": {
          "bar": [
           {
            "error_x": {
             "color": "#2a3f5f"
            },
            "error_y": {
             "color": "#2a3f5f"
            },
            "marker": {
             "line": {
              "color": "#E5ECF6",
              "width": 0.5
             },
             "pattern": {
              "fillmode": "overlay",
              "size": 10,
              "solidity": 0.2
             }
            },
            "type": "bar"
           }
          ],
          "barpolar": [
           {
            "marker": {
             "line": {
              "color": "#E5ECF6",
              "width": 0.5
             },
             "pattern": {
              "fillmode": "overlay",
              "size": 10,
              "solidity": 0.2
             }
            },
            "type": "barpolar"
           }
          ],
          "carpet": [
           {
            "aaxis": {
             "endlinecolor": "#2a3f5f",
             "gridcolor": "white",
             "linecolor": "white",
             "minorgridcolor": "white",
             "startlinecolor": "#2a3f5f"
            },
            "baxis": {
             "endlinecolor": "#2a3f5f",
             "gridcolor": "white",
             "linecolor": "white",
             "minorgridcolor": "white",
             "startlinecolor": "#2a3f5f"
            },
            "type": "carpet"
           }
          ],
          "choropleth": [
           {
            "colorbar": {
             "outlinewidth": 0,
             "ticks": ""
            },
            "type": "choropleth"
           }
          ],
          "contour": [
           {
            "colorbar": {
             "outlinewidth": 0,
             "ticks": ""
            },
            "colorscale": [
             [
              0,
              "#0d0887"
             ],
             [
              0.1111111111111111,
              "#46039f"
             ],
             [
              0.2222222222222222,
              "#7201a8"
             ],
             [
              0.3333333333333333,
              "#9c179e"
             ],
             [
              0.4444444444444444,
              "#bd3786"
             ],
             [
              0.5555555555555556,
              "#d8576b"
             ],
             [
              0.6666666666666666,
              "#ed7953"
             ],
             [
              0.7777777777777778,
              "#fb9f3a"
             ],
             [
              0.8888888888888888,
              "#fdca26"
             ],
             [
              1,
              "#f0f921"
             ]
            ],
            "type": "contour"
           }
          ],
          "contourcarpet": [
           {
            "colorbar": {
             "outlinewidth": 0,
             "ticks": ""
            },
            "type": "contourcarpet"
           }
          ],
          "heatmap": [
           {
            "colorbar": {
             "outlinewidth": 0,
             "ticks": ""
            },
            "colorscale": [
             [
              0,
              "#0d0887"
             ],
             [
              0.1111111111111111,
              "#46039f"
             ],
             [
              0.2222222222222222,
              "#7201a8"
             ],
             [
              0.3333333333333333,
              "#9c179e"
             ],
             [
              0.4444444444444444,
              "#bd3786"
             ],
             [
              0.5555555555555556,
              "#d8576b"
             ],
             [
              0.6666666666666666,
              "#ed7953"
             ],
             [
              0.7777777777777778,
              "#fb9f3a"
             ],
             [
              0.8888888888888888,
              "#fdca26"
             ],
             [
              1,
              "#f0f921"
             ]
            ],
            "type": "heatmap"
           }
          ],
          "heatmapgl": [
           {
            "colorbar": {
             "outlinewidth": 0,
             "ticks": ""
            },
            "colorscale": [
             [
              0,
              "#0d0887"
             ],
             [
              0.1111111111111111,
              "#46039f"
             ],
             [
              0.2222222222222222,
              "#7201a8"
             ],
             [
              0.3333333333333333,
              "#9c179e"
             ],
             [
              0.4444444444444444,
              "#bd3786"
             ],
             [
              0.5555555555555556,
              "#d8576b"
             ],
             [
              0.6666666666666666,
              "#ed7953"
             ],
             [
              0.7777777777777778,
              "#fb9f3a"
             ],
             [
              0.8888888888888888,
              "#fdca26"
             ],
             [
              1,
              "#f0f921"
             ]
            ],
            "type": "heatmapgl"
           }
          ],
          "histogram": [
           {
            "marker": {
             "pattern": {
              "fillmode": "overlay",
              "size": 10,
              "solidity": 0.2
             }
            },
            "type": "histogram"
           }
          ],
          "histogram2d": [
           {
            "colorbar": {
             "outlinewidth": 0,
             "ticks": ""
            },
            "colorscale": [
             [
              0,
              "#0d0887"
             ],
             [
              0.1111111111111111,
              "#46039f"
             ],
             [
              0.2222222222222222,
              "#7201a8"
             ],
             [
              0.3333333333333333,
              "#9c179e"
             ],
             [
              0.4444444444444444,
              "#bd3786"
             ],
             [
              0.5555555555555556,
              "#d8576b"
             ],
             [
              0.6666666666666666,
              "#ed7953"
             ],
             [
              0.7777777777777778,
              "#fb9f3a"
             ],
             [
              0.8888888888888888,
              "#fdca26"
             ],
             [
              1,
              "#f0f921"
             ]
            ],
            "type": "histogram2d"
           }
          ],
          "histogram2dcontour": [
           {
            "colorbar": {
             "outlinewidth": 0,
             "ticks": ""
            },
            "colorscale": [
             [
              0,
              "#0d0887"
             ],
             [
              0.1111111111111111,
              "#46039f"
             ],
             [
              0.2222222222222222,
              "#7201a8"
             ],
             [
              0.3333333333333333,
              "#9c179e"
             ],
             [
              0.4444444444444444,
              "#bd3786"
             ],
             [
              0.5555555555555556,
              "#d8576b"
             ],
             [
              0.6666666666666666,
              "#ed7953"
             ],
             [
              0.7777777777777778,
              "#fb9f3a"
             ],
             [
              0.8888888888888888,
              "#fdca26"
             ],
             [
              1,
              "#f0f921"
             ]
            ],
            "type": "histogram2dcontour"
           }
          ],
          "mesh3d": [
           {
            "colorbar": {
             "outlinewidth": 0,
             "ticks": ""
            },
            "type": "mesh3d"
           }
          ],
          "parcoords": [
           {
            "line": {
             "colorbar": {
              "outlinewidth": 0,
              "ticks": ""
             }
            },
            "type": "parcoords"
           }
          ],
          "pie": [
           {
            "automargin": true,
            "type": "pie"
           }
          ],
          "scatter": [
           {
            "fillpattern": {
             "fillmode": "overlay",
             "size": 10,
             "solidity": 0.2
            },
            "type": "scatter"
           }
          ],
          "scatter3d": [
           {
            "line": {
             "colorbar": {
              "outlinewidth": 0,
              "ticks": ""
             }
            },
            "marker": {
             "colorbar": {
              "outlinewidth": 0,
              "ticks": ""
             }
            },
            "type": "scatter3d"
           }
          ],
          "scattercarpet": [
           {
            "marker": {
             "colorbar": {
              "outlinewidth": 0,
              "ticks": ""
             }
            },
            "type": "scattercarpet"
           }
          ],
          "scattergeo": [
           {
            "marker": {
             "colorbar": {
              "outlinewidth": 0,
              "ticks": ""
             }
            },
            "type": "scattergeo"
           }
          ],
          "scattergl": [
           {
            "marker": {
             "colorbar": {
              "outlinewidth": 0,
              "ticks": ""
             }
            },
            "type": "scattergl"
           }
          ],
          "scattermapbox": [
           {
            "marker": {
             "colorbar": {
              "outlinewidth": 0,
              "ticks": ""
             }
            },
            "type": "scattermapbox"
           }
          ],
          "scatterpolar": [
           {
            "marker": {
             "colorbar": {
              "outlinewidth": 0,
              "ticks": ""
             }
            },
            "type": "scatterpolar"
           }
          ],
          "scatterpolargl": [
           {
            "marker": {
             "colorbar": {
              "outlinewidth": 0,
              "ticks": ""
             }
            },
            "type": "scatterpolargl"
           }
          ],
          "scatterternary": [
           {
            "marker": {
             "colorbar": {
              "outlinewidth": 0,
              "ticks": ""
             }
            },
            "type": "scatterternary"
           }
          ],
          "surface": [
           {
            "colorbar": {
             "outlinewidth": 0,
             "ticks": ""
            },
            "colorscale": [
             [
              0,
              "#0d0887"
             ],
             [
              0.1111111111111111,
              "#46039f"
             ],
             [
              0.2222222222222222,
              "#7201a8"
             ],
             [
              0.3333333333333333,
              "#9c179e"
             ],
             [
              0.4444444444444444,
              "#bd3786"
             ],
             [
              0.5555555555555556,
              "#d8576b"
             ],
             [
              0.6666666666666666,
              "#ed7953"
             ],
             [
              0.7777777777777778,
              "#fb9f3a"
             ],
             [
              0.8888888888888888,
              "#fdca26"
             ],
             [
              1,
              "#f0f921"
             ]
            ],
            "type": "surface"
           }
          ],
          "table": [
           {
            "cells": {
             "fill": {
              "color": "#EBF0F8"
             },
             "line": {
              "color": "white"
             }
            },
            "header": {
             "fill": {
              "color": "#C8D4E3"
             },
             "line": {
              "color": "white"
             }
            },
            "type": "table"
           }
          ]
         },
         "layout": {
          "annotationdefaults": {
           "arrowcolor": "#2a3f5f",
           "arrowhead": 0,
           "arrowwidth": 1
          },
          "autotypenumbers": "strict",
          "coloraxis": {
           "colorbar": {
            "outlinewidth": 0,
            "ticks": ""
           }
          },
          "colorscale": {
           "diverging": [
            [
             0,
             "#8e0152"
            ],
            [
             0.1,
             "#c51b7d"
            ],
            [
             0.2,
             "#de77ae"
            ],
            [
             0.3,
             "#f1b6da"
            ],
            [
             0.4,
             "#fde0ef"
            ],
            [
             0.5,
             "#f7f7f7"
            ],
            [
             0.6,
             "#e6f5d0"
            ],
            [
             0.7,
             "#b8e186"
            ],
            [
             0.8,
             "#7fbc41"
            ],
            [
             0.9,
             "#4d9221"
            ],
            [
             1,
             "#276419"
            ]
           ],
           "sequential": [
            [
             0,
             "#0d0887"
            ],
            [
             0.1111111111111111,
             "#46039f"
            ],
            [
             0.2222222222222222,
             "#7201a8"
            ],
            [
             0.3333333333333333,
             "#9c179e"
            ],
            [
             0.4444444444444444,
             "#bd3786"
            ],
            [
             0.5555555555555556,
             "#d8576b"
            ],
            [
             0.6666666666666666,
             "#ed7953"
            ],
            [
             0.7777777777777778,
             "#fb9f3a"
            ],
            [
             0.8888888888888888,
             "#fdca26"
            ],
            [
             1,
             "#f0f921"
            ]
           ],
           "sequentialminus": [
            [
             0,
             "#0d0887"
            ],
            [
             0.1111111111111111,
             "#46039f"
            ],
            [
             0.2222222222222222,
             "#7201a8"
            ],
            [
             0.3333333333333333,
             "#9c179e"
            ],
            [
             0.4444444444444444,
             "#bd3786"
            ],
            [
             0.5555555555555556,
             "#d8576b"
            ],
            [
             0.6666666666666666,
             "#ed7953"
            ],
            [
             0.7777777777777778,
             "#fb9f3a"
            ],
            [
             0.8888888888888888,
             "#fdca26"
            ],
            [
             1,
             "#f0f921"
            ]
           ]
          },
          "colorway": [
           "#636efa",
           "#EF553B",
           "#00cc96",
           "#ab63fa",
           "#FFA15A",
           "#19d3f3",
           "#FF6692",
           "#B6E880",
           "#FF97FF",
           "#FECB52"
          ],
          "font": {
           "color": "#2a3f5f"
          },
          "geo": {
           "bgcolor": "white",
           "lakecolor": "white",
           "landcolor": "#E5ECF6",
           "showlakes": true,
           "showland": true,
           "subunitcolor": "white"
          },
          "hoverlabel": {
           "align": "left"
          },
          "hovermode": "closest",
          "mapbox": {
           "style": "light"
          },
          "paper_bgcolor": "white",
          "plot_bgcolor": "#E5ECF6",
          "polar": {
           "angularaxis": {
            "gridcolor": "white",
            "linecolor": "white",
            "ticks": ""
           },
           "bgcolor": "#E5ECF6",
           "radialaxis": {
            "gridcolor": "white",
            "linecolor": "white",
            "ticks": ""
           }
          },
          "scene": {
           "xaxis": {
            "backgroundcolor": "#E5ECF6",
            "gridcolor": "white",
            "gridwidth": 2,
            "linecolor": "white",
            "showbackground": true,
            "ticks": "",
            "zerolinecolor": "white"
           },
           "yaxis": {
            "backgroundcolor": "#E5ECF6",
            "gridcolor": "white",
            "gridwidth": 2,
            "linecolor": "white",
            "showbackground": true,
            "ticks": "",
            "zerolinecolor": "white"
           },
           "zaxis": {
            "backgroundcolor": "#E5ECF6",
            "gridcolor": "white",
            "gridwidth": 2,
            "linecolor": "white",
            "showbackground": true,
            "ticks": "",
            "zerolinecolor": "white"
           }
          },
          "shapedefaults": {
           "line": {
            "color": "#2a3f5f"
           }
          },
          "ternary": {
           "aaxis": {
            "gridcolor": "white",
            "linecolor": "white",
            "ticks": ""
           },
           "baxis": {
            "gridcolor": "white",
            "linecolor": "white",
            "ticks": ""
           },
           "bgcolor": "#E5ECF6",
           "caxis": {
            "gridcolor": "white",
            "linecolor": "white",
            "ticks": ""
           }
          },
          "title": {
           "x": 0.05
          },
          "xaxis": {
           "automargin": true,
           "gridcolor": "white",
           "linecolor": "white",
           "ticks": "",
           "title": {
            "standoff": 15
           },
           "zerolinecolor": "white",
           "zerolinewidth": 2
          },
          "yaxis": {
           "automargin": true,
           "gridcolor": "white",
           "linecolor": "white",
           "ticks": "",
           "title": {
            "standoff": 15
           },
           "zerolinecolor": "white",
           "zerolinewidth": 2
          }
         }
        },
        "title": {
         "text": "Distribuição dos emprestimos mensais realizados por alunos de graduação"
        },
        "xaxis": {
         "anchor": "y",
         "domain": [
          0,
          1
         ],
         "title": {
          "text": "ano"
         }
        },
        "yaxis": {
         "anchor": "x",
         "domain": [
          0,
          1
         ],
         "title": {
          "text": "contagem_emprestimo"
         }
        }
       }
      }
     },
     "metadata": {},
     "output_type": "display_data"
    }
   ],
   "source": [
    "fig_box_plot = px.box(emprestimo_graduacao_circulante,\n",
    "                      x=\"ano\",\n",
    "                      y=\"contagem_emprestimo\",\n",
    "                      title=\"Distribuição dos emprestimos mensais realizados por alunos de graduação\"\n",
    "                    )\n",
    "fig_box_plot.show()"
   ]
  },
  {
   "cell_type": "markdown",
   "metadata": {},
   "source": [
    "Nos dois gráficos podemos observar um declínio nos anos de 2018, enquanto nos anos de 2012 a 2013 tivemos um aumento nos emprestimos.\n",
    "Para os alunos de graduação, excluindo os outliers de 2014 e 2017 possivelmente teriamos um período de emprestimos constantes.\n",
    "Para os da pós, tivemos uma crescente 2013 onde se estabilizou até 2018, tendo uma queda acentuada."
   ]
  },
  {
   "cell_type": "markdown",
   "metadata": {},
   "source": [
    "As instituições de ensino superior (IES) têm a necessidade de passar por avaliações do Ministério da Educação (MEC) para que possam ofertar e continuar ofertando cursos de graduação e pós-graduação.\n",
    "\n",
    "A biblioteca universitária faz parte de um dos indicadores da avaliação dos cursos, em principalmente três aspectos: acervo, infraestrutura e serviços.\n",
    "\n",
    "Dentre os serviços, são avaliados se existem recursos de bases referenciais para pesquisa, se há treinamentos para os usuários utilizarem os materiais, e a presença de indicadores sobre o uso dos materiais do acervo (empréstimos, consultas) dentre outros tópicos."
   ]
  },
  {
   "cell_type": "markdown",
   "metadata": {},
   "source": [
    "6º dia: Você precisará calcular a quantidade de empréstimos realizados entre 2015 e 2020 por cada curso de graduação que passará pela avaliação.\n",
    "\n",
    "Os cursos serão:\n",
    "\n",
    "    Biblioteconomia\n",
    "    Ciências sociais\n",
    "    Comunicação social\n",
    "    Direito\n",
    "    Filosofia\n",
    "    Pedagogia\n"
   ]
  },
  {
   "cell_type": "code",
   "execution_count": 115,
   "metadata": {},
   "outputs": [],
   "source": [
    "caminho_usuarios_excel = r'C:\\\\Users\\\\vinic\\\\OneDrive\\\\Documentos\\\\Aprendizado\\\\biblioteca_UFRN\\\\dados\\\\matricula_alunos.xlsx'\n",
    "\n",
    "usuarios_excel_ate_2010 = pd.read_excel(caminho_usuarios_excel, sheet_name=\"Até 2010\")\n",
    "usuarios_excel_apos_2010 = pd.read_excel(caminho_usuarios_excel, sheet_name=\"Após 2010\")\n",
    "\n",
    "#Usando a primeira linha do DataFrame como cabeçalho e removendo ela do dataframe\n",
    "usuarios_excel_ate_2010.columns = usuarios_excel_ate_2010.iloc[0]\n",
    "usuarios_excel_ate_2010 = usuarios_excel_ate_2010.drop(0, axis='index')\n",
    "\n",
    "usuarios_excel_apos_2010.columns = usuarios_excel_apos_2010.iloc[0]\n",
    "usuarios_excel_apos_2010 = usuarios_excel_apos_2010.drop(0, axis='index')\n",
    "\n",
    "usuarios_excel_ate_2010.columns = ['matricula_ou_siape','tipo_vinculo_usuario','curso']\n",
    "usuarios_excel_apos_2010.columns = ['matricula_ou_siape','tipo_vinculo_usuario','curso']\n",
    "\n",
    "usuarios_excel = pd.concat([usuarios_excel_ate_2010, usuarios_excel_apos_2010], ignore_index=True)\n",
    "usuarios_excel['matricula_ou_siape'] = usuarios_excel['matricula_ou_siape'].astype(str)\n"
   ]
  },
  {
   "cell_type": "code",
   "execution_count": 141,
   "metadata": {},
   "outputs": [
    {
     "name": "stderr",
     "output_type": "stream",
     "text": [
      "C:\\Users\\vinic\\AppData\\Local\\Temp\\ipykernel_23768\\3682770705.py:4: FutureWarning:\n",
      "\n",
      "Passing literal json to 'read_json' is deprecated and will be removed in a future version. To read from a literal string, wrap it in a 'StringIO' object.\n",
      "\n",
      "C:\\Users\\vinic\\AppData\\Local\\Temp\\ipykernel_23768\\3682770705.py:5: FutureWarning:\n",
      "\n",
      "Passing literal json to 'read_json' is deprecated and will be removed in a future version. To read from a literal string, wrap it in a 'StringIO' object.\n",
      "\n"
     ]
    }
   ],
   "source": [
    "caminho_usuarios_json = r'https://raw.githubusercontent.com/FranciscoFoz/7_Days_of_Code_Alura-Python-Pandas/main/Dia_6-Novos_dados_novas_analises/Datasets/cadastro_alunos.json'\n",
    "usuarios_json = pd.read_json(caminho_usuarios_json)\n",
    "\n",
    "usuarios_json_graduacao = pd.read_json(usuarios_json.registros[0])\n",
    "usuarios_json_pos = pd.read_json(usuarios_json.registros[1])\n",
    "\n",
    "usuarios_json_graduacao['matricula_ou_siape'] = usuarios_json_graduacao['matricula_ou_siape'].astype(float)\n",
    "usuarios_json_graduacao['matricula_ou_siape'] = usuarios_json_graduacao['matricula_ou_siape'].astype(str)\n",
    "usuarios_json_graduacao = usuarios_json_graduacao.dropna()\n",
    "\n",
    "usuarios_json_pos['matricula_ou_siape'] = usuarios_json_pos['matricula_ou_siape'].astype(float)\n",
    "usuarios_json_pos['matricula_ou_siape'] = usuarios_json_pos['matricula_ou_siape'].astype(str)\n"
   ]
  },
  {
   "cell_type": "code",
   "execution_count": 142,
   "metadata": {},
   "outputs": [],
   "source": [
    "usuarios_completo = pd.concat([usuarios_excel, usuarios_json_graduacao], ignore_index=True)"
   ]
  },
  {
   "cell_type": "code",
   "execution_count": 143,
   "metadata": {},
   "outputs": [
    {
     "data": {
      "text/plain": [
       "Index(['matricula_ou_siape', 'tipo_vinculo_usuario', 'curso'], dtype='object')"
      ]
     },
     "execution_count": 143,
     "metadata": {},
     "output_type": "execute_result"
    }
   ],
   "source": [
    "usuarios_completo.columns"
   ]
  },
  {
   "cell_type": "code",
   "execution_count": 159,
   "metadata": {},
   "outputs": [],
   "source": [
    "emprestimos_completo.head(3)\n",
    "emprestimos_matricula_data = emprestimos_completo[[\"matricula_ou_siape\", \"data_emprestimo\", \"id_emprestimo\"]]"
   ]
  },
  {
   "cell_type": "code",
   "execution_count": 175,
   "metadata": {},
   "outputs": [
    {
     "name": "stdout",
     "output_type": "stream",
     "text": [
      "Index(['matricula_ou_siape', 'tipo_vinculo_usuario', 'curso',\n",
      "       'data_emprestimo', 'id_emprestimo', 'ano'],\n",
      "      dtype='object')\n"
     ]
    },
    {
     "name": "stderr",
     "output_type": "stream",
     "text": [
      "C:\\Users\\vinic\\AppData\\Local\\Temp\\ipykernel_23768\\2474646250.py:3: SettingWithCopyWarning:\n",
      "\n",
      "\n",
      "A value is trying to be set on a copy of a slice from a DataFrame.\n",
      "Try using .loc[row_indexer,col_indexer] = value instead\n",
      "\n",
      "See the caveats in the documentation: https://pandas.pydata.org/pandas-docs/stable/user_guide/indexing.html#returning-a-view-versus-a-copy\n",
      "\n",
      "C:\\Users\\vinic\\AppData\\Local\\Temp\\ipykernel_23768\\2474646250.py:4: SettingWithCopyWarning:\n",
      "\n",
      "\n",
      "A value is trying to be set on a copy of a slice from a DataFrame.\n",
      "Try using .loc[row_indexer,col_indexer] = value instead\n",
      "\n",
      "See the caveats in the documentation: https://pandas.pydata.org/pandas-docs/stable/user_guide/indexing.html#returning-a-view-versus-a-copy\n",
      "\n"
     ]
    }
   ],
   "source": [
    "usuarios_com_data = pd.merge(usuarios_completo, emprestimos_matricula_data, on=\"matricula_ou_siape\", how=\"inner\")\n",
    "usuarios_com_data_2015_2020 = usuarios_com_data.query(\"data_emprestimo >= 2015\")\n",
    "usuarios_com_data_2015_2020[\"data_emprestimo\"] = pd.to_datetime(usuarios_com_data_2015_2020[\"data_emprestimo\"])\n",
    "usuarios_com_data_2015_2020[\"ano\"] = usuarios_com_data_2015_2020[\"data_emprestimo\"].dt.year\n",
    "print(usuarios_com_data_2015_2020.columns)"
   ]
  },
  {
   "cell_type": "code",
   "execution_count": 176,
   "metadata": {},
   "outputs": [],
   "source": [
    "cursos_avaliacao_mec = [\n",
    "    \"Biblioteconomia\",\n",
    "    \"Ciências sociais\",\n",
    "    \"Comunicação social\",\n",
    "    \"Direito\",\n",
    "    \"Filosofia\",\n",
    "    \"Pedagogia\"\n",
    "]"
   ]
  },
  {
   "cell_type": "code",
   "execution_count": null,
   "metadata": {},
   "outputs": [
    {
     "data": {
      "text/html": [
       "<div>\n",
       "<style scoped>\n",
       "    .dataframe tbody tr th:only-of-type {\n",
       "        vertical-align: middle;\n",
       "    }\n",
       "\n",
       "    .dataframe tbody tr th {\n",
       "        vertical-align: top;\n",
       "    }\n",
       "\n",
       "    .dataframe thead th {\n",
       "        text-align: right;\n",
       "    }\n",
       "</style>\n",
       "<table border=\"1\" class=\"dataframe\">\n",
       "  <thead>\n",
       "    <tr style=\"text-align: right;\">\n",
       "      <th>ano</th>\n",
       "      <th>2015</th>\n",
       "      <th>2016</th>\n",
       "      <th>2017</th>\n",
       "      <th>2018</th>\n",
       "      <th>2019</th>\n",
       "      <th>2020</th>\n",
       "      <th>total</th>\n",
       "    </tr>\n",
       "  </thead>\n",
       "  <tbody>\n",
       "    <tr>\n",
       "      <th>BIBLIOTECONOMIA</th>\n",
       "      <td>7784.0</td>\n",
       "      <td>7044.0</td>\n",
       "      <td>7307.0</td>\n",
       "      <td>6378.0</td>\n",
       "      <td>5889.0</td>\n",
       "      <td>900.0</td>\n",
       "      <td>35302.0</td>\n",
       "    </tr>\n",
       "    <tr>\n",
       "      <th>CIÊNCIAS SOCIAIS</th>\n",
       "      <td>7489.0</td>\n",
       "      <td>6978.0</td>\n",
       "      <td>6918.0</td>\n",
       "      <td>6181.0</td>\n",
       "      <td>5788.0</td>\n",
       "      <td>825.0</td>\n",
       "      <td>34179.0</td>\n",
       "    </tr>\n",
       "    <tr>\n",
       "      <th>COMUNICAÇÃO SOCIAL</th>\n",
       "      <td>7147.0</td>\n",
       "      <td>7973.0</td>\n",
       "      <td>8253.0</td>\n",
       "      <td>6953.0</td>\n",
       "      <td>5885.0</td>\n",
       "      <td>796.0</td>\n",
       "      <td>37007.0</td>\n",
       "    </tr>\n",
       "    <tr>\n",
       "      <th>DIREITO</th>\n",
       "      <td>7665.0</td>\n",
       "      <td>7363.0</td>\n",
       "      <td>7885.0</td>\n",
       "      <td>7027.0</td>\n",
       "      <td>5861.0</td>\n",
       "      <td>905.0</td>\n",
       "      <td>36706.0</td>\n",
       "    </tr>\n",
       "    <tr>\n",
       "      <th>FILOSOFIA</th>\n",
       "      <td>6950.0</td>\n",
       "      <td>7576.0</td>\n",
       "      <td>7389.0</td>\n",
       "      <td>6296.0</td>\n",
       "      <td>5572.0</td>\n",
       "      <td>832.0</td>\n",
       "      <td>34615.0</td>\n",
       "    </tr>\n",
       "    <tr>\n",
       "      <th>PEDAGOGIA</th>\n",
       "      <td>7189.0</td>\n",
       "      <td>7153.0</td>\n",
       "      <td>7434.0</td>\n",
       "      <td>6518.0</td>\n",
       "      <td>5869.0</td>\n",
       "      <td>866.0</td>\n",
       "      <td>35029.0</td>\n",
       "    </tr>\n",
       "    <tr>\n",
       "      <th>total</th>\n",
       "      <td>44224.0</td>\n",
       "      <td>44087.0</td>\n",
       "      <td>45186.0</td>\n",
       "      <td>39353.0</td>\n",
       "      <td>34864.0</td>\n",
       "      <td>5124.0</td>\n",
       "      <td>212838.0</td>\n",
       "    </tr>\n",
       "  </tbody>\n",
       "</table>\n",
       "</div>"
      ],
      "text/plain": [
       "ano                    2015     2016     2017     2018     2019    2020  \\\n",
       "BIBLIOTECONOMIA      7784.0   7044.0   7307.0   6378.0   5889.0   900.0   \n",
       "CIÊNCIAS SOCIAIS     7489.0   6978.0   6918.0   6181.0   5788.0   825.0   \n",
       "COMUNICAÇÃO SOCIAL   7147.0   7973.0   8253.0   6953.0   5885.0   796.0   \n",
       "DIREITO              7665.0   7363.0   7885.0   7027.0   5861.0   905.0   \n",
       "FILOSOFIA            6950.0   7576.0   7389.0   6296.0   5572.0   832.0   \n",
       "PEDAGOGIA            7189.0   7153.0   7434.0   6518.0   5869.0   866.0   \n",
       "total               44224.0  44087.0  45186.0  39353.0  34864.0  5124.0   \n",
       "\n",
       "ano                    total  \n",
       "BIBLIOTECONOMIA      35302.0  \n",
       "CIÊNCIAS SOCIAIS     34179.0  \n",
       "COMUNICAÇÃO SOCIAL   37007.0  \n",
       "DIREITO              36706.0  \n",
       "FILOSOFIA            34615.0  \n",
       "PEDAGOGIA            35029.0  \n",
       "total               212838.0  "
      ]
     },
     "metadata": {},
     "output_type": "display_data"
    }
   ],
   "source": [
    "usuarios_com_data_2015_2020_agrupada = usuarios_com_data_2015_2020.groupby([\"curso\", \"ano\"])[\"id_emprestimo\"].count().reset_index()\n",
    "usuarios_com_data_2015_2020_agrupada = usuarios_com_data_2015_2020_agrupada.rename(columns={\"id_emprestimo\": \"contagem_emprestimo\"})\n",
    "\n",
    "for i in range(len(cursos_avaliacao_mec)):\n",
    "    cursos_avaliacao_mec[i] = cursos_avaliacao_mec[i].upper()\n",
    "\n",
    "usuarios_com_data_2015_2020_agrupada_pivot = pd.pivot_table(usuarios_com_data_2015_2020_agrupada,\n",
    "                                                            values=\"contagem_emprestimo\",\n",
    "                                                            index=\"curso\",\n",
    "                                                            columns=\"ano\",\n",
    "                                                            aggfunc=\"sum\",)\n",
    "usuarios_com_data_2015_2020_agrupada_pivot = usuarios_com_data_2015_2020_agrupada_pivot.fillna(0)\n",
    "\n",
    "usuarios_com_data_2015_2020_agrupada_pivot_mec = usuarios_com_data_2015_2020_agrupada_pivot.loc[cursos_avaliacao_mec]\n",
    "\n",
    "colunas = usuarios_com_data_2015_2020_agrupada_pivot_mec.columns\n",
    "\n",
    "\n",
    "usuarios_com_data_2015_2020_agrupada_pivot_mec[\"total\"] = usuarios_com_data_2015_2020_agrupada_pivot_mec.sum(axis=1)\n",
    "linha_total_por_ano = usuarios_com_data_2015_2020_agrupada_pivot_mec.sum()\n",
    "#.T é para transpor o DataFrame\n",
    "linha_total_por_ano_df = pd.DataFrame(linha_total_por_ano).T\n",
    "linha_total_por_ano_df.index = [\"TOTAL\"]\n",
    "\n",
    "usuarios_com_data_2015_2020_agrupada_pivot_mec = pd.concat([usuarios_com_data_2015_2020_agrupada_pivot_mec, linha_total_por_ano_df])\n",
    "display(usuarios_com_data_2015_2020_agrupada_pivot_mec)\n"
   ]
  }
 ],
 "metadata": {
  "kernelspec": {
   "display_name": "Python 3",
   "language": "python",
   "name": "python3"
  },
  "language_info": {
   "codemirror_mode": {
    "name": "ipython",
    "version": 3
   },
   "file_extension": ".py",
   "mimetype": "text/x-python",
   "name": "python",
   "nbconvert_exporter": "python",
   "pygments_lexer": "ipython3",
   "version": "3.13.0"
  }
 },
 "nbformat": 4,
 "nbformat_minor": 2
}
